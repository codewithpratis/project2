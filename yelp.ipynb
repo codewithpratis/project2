{
 "metadata": {
  "language_info": {
   "codemirror_mode": {
    "name": "ipython",
    "version": 3
   },
   "file_extension": ".py",
   "mimetype": "text/x-python",
   "name": "python",
   "nbconvert_exporter": "python",
   "pygments_lexer": "ipython3",
   "version": "3.6.10-final"
  },
  "orig_nbformat": 2,
  "kernelspec": {
   "name": "python361064bitpythondatavizconda8faeb8d20dfe4449876d49c9cc48fd4c",
   "display_name": "Python 3.6.10 64-bit ('PythonDataViz': conda)"
  }
 },
 "nbformat": 4,
 "nbformat_minor": 2,
 "cells": [
  {
   "cell_type": "code",
   "execution_count": 2,
   "metadata": {},
   "outputs": [],
   "source": [
    "import pandas as pd\n",
    "import numpy as np\n",
    "import yaml\n",
    "import json\n",
    "data_path = \"yelp.json\"\n",
    "out_data_path = \"business.json\"\n",
    "import pymongo"
   ]
  },
  {
   "cell_type": "code",
   "execution_count": 2,
   "metadata": {},
   "outputs": [],
   "source": [
    "test_list = []"
   ]
  },
  {
   "cell_type": "code",
   "execution_count": 3,
   "metadata": {
    "tags": [
     "outputPrepend"
    ]
   },
   "outputs": [
    {
     "output_type": "stream",
     "name": "stdout",
     "text": "ids\":\"True\",\"RestaurantsDelivery\":\"True\",\"RestaurantsGoodForGroups\":\"True\",\"Alcohol\":\"u'beer_and_wine'\",\"BusinessAcceptsCreditCards\":\"True\",\"Ambience\":\"{'romantic': False, 'intimate': False, 'touristy': False, 'hipster': False, 'divey': False, 'classy': False, 'trendy': False, 'upscale': False, 'casual': True}\",\"NoiseLevel\":\"u'average'\",\"RestaurantsPriceRange2\":\"2\",\"Caters\":\"True\",\"HappyHour\":\"True\"},\"categories\":\"Pizza, Italian, Restaurants\",\"hours\":{\"Monday\":\"11:0-21:30\",\"Tuesday\":\"11:0-21:30\",\"Wednesday\":\"11:0-21:30\",\"Thursday\":\"11:0-21:30\",\"Friday\":\"11:0-22:30\",\"Saturday\":\"11:0-22:30\",\"Sunday\":\"11:0-21:30\"}}\n\n{\"business_id\":\"KDNQREbY6FrASDbHyUDCHA\",\"name\":\"Furniture For Life\",\"address\":\"3883 Spring Mountain Rd\",\"city\":\"Las Vegas\",\"state\":\"NV\",\"postal_code\":\"89102\",\"latitude\":36.1260351,\"longitude\":-115.191649,\"stars\":5.0,\"review_count\":21,\"is_open\":1,\"attributes\":{\"BusinessAcceptsCreditCards\":\"True\",\"BusinessAcceptsBitcoin\":\"False\",\"BikeParking\":\"False\",\"ByAppointmentOnly\":\"False\",\"BusinessParking\":\"{'garage': False, 'street': False, 'validated': False, 'lot': True, 'valet': False}\"},\"categories\":\"Health & Medical, Home & Garden, Shopping, Furniture Stores, Mattresses, Office Equipment, Home Health Care\",\"hours\":{\"Monday\":\"0:0-0:0\",\"Tuesday\":\"11:0-20:0\",\"Wednesday\":\"11:0-20:0\",\"Thursday\":\"11:0-20:0\",\"Friday\":\"11:0-20:0\",\"Saturday\":\"11:0-20:0\",\"Sunday\":\"12:0-19:0\"}}\n\n{\"business_id\":\"5VXlHFrYZZzj7zfZEsz5nQ\",\"name\":\"Dragon Noodle Co.\",\"address\":\"3770 Las Vegas Blvd S\",\"city\":\"Las Vegas\",\"state\":\"NV\",\"postal_code\":\"89109\",\"latitude\":36.105289,\"longitude\":-115.174037,\"stars\":3.0,\"review_count\":279,\"is_open\":0,\"attributes\":{\"RestaurantsTakeOut\":\"True\",\"BusinessAcceptsCreditCards\":\"True\",\"GoodForKids\":\"True\",\"Alcohol\":\"u'full_bar'\",\"RestaurantsGoodForGroups\":\"True\",\"RestaurantsPriceRange2\":\"2\",\"RestaurantsDelivery\":\"False\",\"RestaurantsAttire\":\"u'casual'\",\"BusinessParking\":\"{'garage': False, 'street': False, 'validated': False, 'lot': False, 'valet': False}\",\"RestaurantsReservations\":\"True\",\"WheelchairAccessible\":\"True\",\"Caters\":\"False\",\"OutdoorSeating\":\"False\",\"Ambience\":\"{'romantic': False, 'intimate': False, 'touristy': False, 'hipster': False, 'divey': False, 'classy': False, 'trendy': False, 'upscale': False, 'casual': True}\",\"RestaurantsTableService\":\"True\",\"BikeParking\":\"False\",\"GoodForMeal\":\"{'dessert': False, 'latenight': False, 'lunch': True, 'dinner': True, 'brunch': False, 'breakfast': False}\",\"WiFi\":\"u'no'\",\"HappyHour\":\"True\",\"HasTV\":\"False\",\"NoiseLevel\":\"u'average'\"},\"categories\":\"Chinese, Restaurants\",\"hours\":{\"Monday\":\"11:0-22:30\",\"Tuesday\":\"11:0-22:30\",\"Wednesday\":\"11:0-22:30\",\"Thursday\":\"11:0-22:30\",\"Friday\":\"11:0-22:30\",\"Saturday\":\"11:0-22:30\",\"Sunday\":\"11:0-22:30\"}}\n\n{\"business_id\":\"4O5RmL0G5e6cmGigxBy8bQ\",\"name\":\"All Access Moving Company\",\"address\":\"\",\"city\":\"Kirkland\",\"state\":\"QC\",\"postal_code\":\"H9H 3B5\",\"latitude\":45.4483933,\"longitude\":-73.8542059,\"stars\":3.5,\"review_count\":3,\"is_open\":1,\"attributes\":{\"ByAppointmentOnly\":\"True\"},\"categories\":\"Movers, Home Services\",\"hours\":{\"Monday\":\"7:0-20:0\",\"Tuesday\":\"7:0-20:0\",\"Wednesday\":\"7:0-20:0\",\"Thursday\":\"7:0-20:0\",\"Friday\":\"7:0-20:0\",\"Saturday\":\"7:0-20:0\",\"Sunday\":\"7:0-19:0\"}}\n\n{\"business_id\":\"4EwAkiirgMvFleD3B9HrYg\",\"name\":\"Ignite Funding\",\"address\":\"2140 E Pebble Rd, Ste 160\",\"city\":\"Las Vegas\",\"state\":\"NV\",\"postal_code\":\"89123\",\"latitude\":36.0283421,\"longitude\":-115.1219348,\"stars\":4.0,\"review_count\":13,\"is_open\":1,\"attributes\":null,\"categories\":\"Commercial Real Estate, Mortgage Brokers, Home Services, Real Estate, Investing, Financial Services, Mortgage Lenders\",\"hours\":{\"Monday\":\"8:0-17:0\",\"Tuesday\":\"8:0-17:0\",\"Wednesday\":\"8:0-17:0\",\"Thursday\":\"8:0-17:0\",\"Friday\":\"8:0-17:0\"}}\n\n{\"business_id\":\"wjZ12shpUWAy4Boy0G5z1g\",\"name\":\"Island Buffet\",\"address\":\"Tropicana Resort and Casino, 3801 Las Vegas Blvd S\",\"city\":\"Las Vegas\",\"state\":\"NV\",\"postal_code\":\"89109\",\"latitude\":36.0993783,\"longitude\":-115.1710285,\"stars\":1.5,\"review_count\":9,\"is_open\":0,\"attributes\":{\"BusinessAcceptsCreditCards\":\"True\",\"RestaurantsPriceRange2\":\"4\",\"RestaurantsGoodForGroups\":\"True\",\"RestaurantsReservations\":\"False\",\"RestaurantsAttire\":\"u'casual'\",\"OutdoorSeating\":\"False\",\"Alcohol\":\"u'beer_and_wine'\"},\"categories\":\"Restaurants, Buffets\",\"hours\":null}\n\n{\"business_id\":\"smAxaC3Fwomra8XBTSL1pg\",\"name\":\"Robert Walker, DDS - Walker Orthodontics\",\"address\":\"3200 N Dobson Rd, Bldg A\",\"city\":\"Chander\",\"state\":\"AZ\",\"postal_code\":\"85224\",\"latitude\":33.353468,\"longitude\":-111.87724,\"stars\":4.5,\"review_count\":7,\"is_open\":1,\"attributes\":{\"ByAppointmentOnly\":\"True\",\"BusinessAcceptsCreditCards\":\"True\",\"AcceptsInsurance\":\"True\",\"WiFi\":\"u'free'\"},\"categories\":\"Dentists, Health & Medical, Orthodontists\",\"hours\":{\"Monday\":\"20:30-17:0\",\"Tuesday\":\"19:30-17:0\",\"Wednesday\":\"19:30-17:0\",\"Thursday\":\"19:30-17:0\"}}\n\n{\"business_id\":\"BtTCTHwoIfr3fBQjaOkpIw\",\"name\":\"Starbucks\",\"address\":\"81 Front Street E\",\"city\":\"Toronto\",\"state\":\"ON\",\"postal_code\":\"M5E 1B8\",\"latitude\":43.6487275,\"longitude\":-79.3725058,\"stars\":4.0,\"review_count\":22,\"is_open\":1,\"attributes\":{\"WiFi\":\"u'free'\",\"BusinessParking\":\"{'garage': False, 'street': True, 'validated': False, 'lot': False, 'valet': False}\",\"RestaurantsPriceRange2\":\"2\",\"OutdoorSeating\":\"True\",\"BikeParking\":\"True\",\"RestaurantsTakeOut\":\"True\",\"Caters\":\"False\"},\"categories\":\"Coffee & Tea, Food\",\"hours\":{\"Monday\":\"6:0-22:0\",\"Tuesday\":\"6:0-22:0\",\"Wednesday\":\"6:0-22:0\",\"Thursday\":\"6:0-22:0\",\"Friday\":\"6:0-22:0\",\"Saturday\":\"6:30-21:0\",\"Sunday\":\"6:0-22:0\"}}\n\n{\"business_id\":\"2IQfgwNt1_DVrFR_86_VZw\",\"name\":\"Britt Pierson Photography\",\"address\":\"S Maryland Pkwy 2620\",\"city\":\"Las Vegas\",\"state\":\"NV\",\"postal_code\":\"89109\",\"latitude\":36.1421275,\"longitude\":-115.1369241,\"stars\":5.0,\"review_count\":10,\"is_open\":1,\"attributes\":{\"BusinessAcceptsCreditCards\":\"True\",\"WiFi\":\"u'no'\"},\"categories\":\"Session Photography, Event Photography, Photographers, Event Planning & Services\",\"hours\":{\"Monday\":\"8:0-17:0\",\"Tuesday\":\"8:0-17:0\",\"Wednesday\":\"8:0-17:0\",\"Thursday\":\"8:0-17:0\",\"Friday\":\"8:0-17:0\",\"Saturday\":\"8:0-17:0\"}}\n\n{\"business_id\":\"cmsAFAymfVoBitSF8R6GKw\",\"name\":\"Yao Fine Chinese Cuisine\",\"address\":\"2487 S Gilbert Rd, Ste 102\",\"city\":\"Gilbert\",\"state\":\"AZ\",\"postal_code\":\"85295\",\"latitude\":33.304935,\"longitude\":-111.788861,\"stars\":4.0,\"review_count\":230,\"is_open\":1,\"attributes\":{\"RestaurantsGoodForGroups\":\"True\",\"Ambience\":\"{'romantic': False, 'intimate': False, 'touristy': False, 'hipster': False, 'divey': False, 'classy': False, 'trendy': False, 'upscale': False, 'casual': True}\",\"RestaurantsDelivery\":\"False\",\"OutdoorSeating\":\"False\",\"RestaurantsTakeOut\":\"True\",\"BusinessAcceptsCreditCards\":\"True\",\"RestaurantsAttire\":\"u'casual'\",\"WiFi\":\"u'no'\",\"Caters\":\"True\",\"Alcohol\":\"u'beer_and_wine'\",\"NoiseLevel\":\"'average'\",\"GoodForKids\":\"True\",\"HasTV\":\"True\",\"RestaurantsPriceRange2\":\"1\",\"GoodForMeal\":\"{'dessert': False, 'latenight': False, 'lunch': True, 'dinner': True, 'brunch': False, 'breakfast': False}\",\"BikeParking\":\"True\",\"RestaurantsReservations\":\"False\",\"RestaurantsTableService\":\"True\",\"BusinessParking\":\"{'garage': False, 'street': False, 'validated': False, 'lot': None, 'valet': False}\"},\"categories\":\"Chinese, Restaurants\",\"hours\":{\"Monday\":\"11:0-21:0\",\"Tuesday\":\"11:0-21:0\",\"Wednesday\":\"11:0-21:0\",\"Thursday\":\"11:0-21:0\",\"Friday\":\"11:0-21:0\",\"Saturday\":\"11:0-21:0\",\"Sunday\":\"11:0-21:0\"}}\n\n{\"business_id\":\"n2BKYb8aw4AhRKLkdUjQRg\",\"name\":\"Steak & Cheese & Quick Pita Restaurant\",\"address\":\"199 College St\",\"city\":\"Toronto\",\"state\":\"ON\",\"postal_code\":\"M5T 1P9\",\"latitude\":43.6586831,\"longitude\":-79.3950713,\"stars\":2.5,\"review_count\":21,\"is_open\":1,\"attributes\":{\"OutdoorSeating\":\"False\",\"Alcohol\":\"u'none'\",\"RestaurantsDelivery\":\"False\",\"BusinessParking\":\"{'garage': False, 'street': True, 'validated': False, 'lot': False, 'valet': False}\",\"RestaurantsAttire\":\"u'casual'\",\"RestaurantsReservations\":\"False\",\"RestaurantsGoodForGroups\":\"True\",\"RestaurantsPriceRange2\":\"1\",\"RestaurantsTakeOut\":\"True\",\"GoodForKids\":\"True\",\"HasTV\":\"True\",\"Ambience\":\"{'touristy': False, 'hipster': False, 'romantic': False, 'intimate': False, 'trendy': False, 'upscale': False, 'classy': False, 'casual': True}\",\"WiFi\":\"'no'\",\"NoiseLevel\":\"u'quiet'\",\"BikeParking\":\"True\"},\"categories\":\"Sandwiches, Restaurants\",\"hours\":null}\n\n{\"business_id\":\"TLEXFQf9UT4PV5QJrc3QPw\",\"name\":\"PC Pool Care\",\"address\":\"7735 E Evans Rd, Ste 203\",\"city\":\"Scottsdale\",\"state\":\"AZ\",\"postal_code\":\"85260\",\"latitude\":33.616084251,\"longitude\":-111.9141132288,\"stars\":4.0,\"review_count\":6,\"is_open\":1,\"attributes\":{\"BusinessAcceptsCreditCards\":\"True\",\"ByAppointmentOnly\":\"False\",\"GoodForKids\":\"True\"},\"categories\":\"Home Services, Active Life, Swimming Pools, Pool & Hot Tub Service, Pool Cleaners\",\"hours\":{\"Monday\":\"0:0-0:0\",\"Tuesday\":\"8:0-17:0\",\"Wednesday\":\"8:0-17:0\",\"Thursday\":\"8:0-17:0\",\"Friday\":\"8:0-17:0\"}}\n\n{\"business_id\":\"7HDPnk-3T73gpfPbPY4T2w\",\"name\":\"Footbar - Golden Plaza\",\"address\":\"New Golden Plaza, 328 Highway 7 E, Suite 9\",\"city\":\"Richmond Hill\",\"state\":\"ON\",\"postal_code\":\"L4B 3P7\",\"latitude\":43.840862,\"longitude\":-79.399572,\"stars\":4.5,\"review_count\":10,\"is_open\":1,\"attributes\":{\"WheelchairAccessible\":\"True\",\"AcceptsInsurance\":\"True\",\"BusinessParking\":\"{'garage': False, 'street': False, 'validated': False, 'lot': False, 'valet': False}\",\"RestaurantsPriceRange2\":\"2\",\"ByAppointmentOnly\":\"False\",\"BikeParking\":\"True\"},\"categories\":\"Health & Medical, Massage Therapy, Reflexology, Beauty & Spas, Massage\",\"hours\":{\"Monday\":\"9:0-22:0\",\"Tuesday\":\"9:0-22:0\",\"Wednesday\":\"9:0-23:30\",\"Thursday\":\"9:0-23:30\",\"Friday\":\"9:0-23:30\",\"Saturday\":\"9:0-23:30\",\"Sunday\":\"9:0-23:30\"}}\n\n{\"business_id\":\"YZeUH6zYS0dq5QHLYZhUnQ\",\"name\":\"Hooters\",\"address\":\"2820 N 75th Ave\",\"city\":\"Phoenix\",\"state\":\"AZ\",\"postal_code\":\"85035\",\"latitude\":33.479139,\"longitude\":-112.2211419,\"stars\":2.0,\"review_count\":106,\"is_open\":1,\"attributes\":{\"NoiseLevel\":\"'very_loud'\",\"WiFi\":\"'no'\",\"Ambience\":\"{'romantic': False, 'intimate': False, 'classy': False, 'hipster': False, 'divey': False, 'touristy': False, 'trendy': False, 'upscale': False, 'casual': True}\",\"RestaurantsTakeOut\":\"True\",\"BusinessParking\":\"{'garage': False, 'street': False, 'validated': False, 'lot': True, 'valet': False}\",\"RestaurantsPriceRange2\":\"2\",\"Caters\":\"True\",\"DogsAllowed\":\"False\",\"GoodForKids\":\"True\",\"Alcohol\":\"u'full_bar'\",\"OutdoorSeating\":\"True\",\"HappyHour\":\"True\",\"RestaurantsReservations\":\"False\",\"RestaurantsAttire\":\"u'casual'\",\"BikeParking\":\"True\",\"HasTV\":\"True\",\"Music\":\"{'dj': False, 'background_music': False, 'no_music': False, 'jukebox': False, 'live': False, 'video': False, 'karaoke': False}\",\"RestaurantsGoodForGroups\":\"True\",\"RestaurantsTableService\":\"True\",\"GoodForMeal\":\"{'dessert': False, 'latenight': False, 'lunch': True, 'dinner': False, 'brunch': False, 'breakfast': False}\",\"BusinessAcceptsCreditCards\":\"True\",\"BestNights\":\"{'monday': False, 'tuesday': False, 'friday': True, 'wednesday': False, 'thursday': False, 'sunday': False, 'saturday': True}\",\"RestaurantsDelivery\":\"True\"},\"categories\":\"Nightlife, American (Traditional), Chicken Wings, Sports Bars, Restaurants, Bars\",\"hours\":null}\n\n{\"business_id\":\"xVpE01l6ZXdEtVf5PkRpDg\",\"name\":\"Julep\",\"address\":\"829 E Washington Ave\",\"city\":\"Madison\",\"state\":\"WI\",\"postal_code\":\"53703\",\"latitude\":43.0810216648,\"longitude\":-89.3740063545,\"stars\":4.0,\"review_count\":95,\"is_open\":0,\"attributes\":{\"NoiseLevel\":\"u'average'\",\"BikeParking\":\"True\",\"RestaurantsDelivery\":\"False\",\"BusinessParking\":\"{'garage': False, 'street': True, 'validated': False, 'lot': False, 'valet': False}\",\"Alcohol\":\"u'full_bar'\",\"Music\":\"{'dj': False}\",\"Ambience\":\"{'romantic': False, 'intimate': False, 'classy': False, 'hipster': False, 'divey': False, 'touristy': False, 'trendy': True, 'upscale': False, 'casual': False}\",\"CoatCheck\":\"True\",\"RestaurantsTableService\":\"True\",\"WheelchairAccessible\":\"True\",\"BusinessAcceptsCreditCards\":\"True\",\"RestaurantsPriceRange2\":\"2\",\"HappyHour\":\"True\",\"GoodForDancing\":\"False\",\"RestaurantsAttire\":\"u'casual'\",\"OutdoorSeating\":\"True\",\"Caters\":\"False\",\"WiFi\":\"u'free'\",\"Smoking\":\"u'outdoor'\",\"RestaurantsTakeOut\":\"False\",\"GoodForMeal\":\"{'dessert': False, 'latenight': False, 'lunch': False, 'dinner': True, 'brunch': False, 'breakfast': False}\",\"GoodForKids\":\"False\",\"RestaurantsReservations\":\"True\",\"RestaurantsGoodForGroups\":\"True\",\"HasTV\":\"False\"},\"categories\":\"Nightlife, Diners, Bars, Southern, Restaurants\",\"hours\":{\"Monday\":\"16:0-22:0\",\"Tuesday\":\"16:0-22:0\",\"Wednesday\":\"16:0-22:0\",\"Thursday\":\"16:0-22:0\",\"Friday\":\"16:0-23:0\",\"Saturday\":\"16:0-23:0\",\"Sunday\":\"10:0-14:0\"}}\n\n{\"business_id\":\"fNil19SUfPAPnLQrYnFrGQ\",\"name\":\"Cheyenne West Animal Hospital\",\"address\":\"3650 N Buffalo Dr\",\"city\":\"Las Vegas\",\"state\":\"NV\",\"postal_code\":\"89129\",\"latitude\":36.2263387,\"longitude\":-115.2599579,\"stars\":4.5,\"review_count\":124,\"is_open\":1,\"attributes\":{\"ByAppointmentOnly\":\"True\"},\"categories\":\"Pets, Pet Sitting, Veterinarians, Pet Services\",\"hours\":{\"Monday\":\"8:0-18:0\",\"Tuesday\":\"8:0-18:0\",\"Wednesday\":\"8:0-18:0\",\"Thursday\":\"8:0-18:0\",\"Friday\":\"8:0-18:0\",\"Saturday\":\"8:0-16:0\"}}\n\n{\"business_id\":\"BAVuLTDmpSzDCk37A5HjtQ\",\"name\":\"Bruegger's Bagels\",\"address\":\"27045 Lorain Rd\",\"city\":\"North Olmsted\",\"state\":\"OH\",\"postal_code\":\"44070\",\"latitude\":41.4165681,\"longitude\":-81.9213962,\"stars\":3.0,\"review_count\":13,\"is_open\":0,\"attributes\":{\"NoiseLevel\":\"u'average'\",\"BikeParking\":\"False\",\"BusinessAcceptsCreditCards\":\"True\",\"RestaurantsPriceRange2\":\"2\",\"BusinessParking\":\"{'garage': False, 'street': False, 'validated': False, 'lot': True, 'valet': False}\",\"Caters\":\"True\",\"RestaurantsDelivery\":\"True\"},\"categories\":\"Restaurants, Sandwiches, Food, Breakfast & Brunch, Bagels\",\"hours\":{\"Monday\":\"5:30-15:0\",\"Tuesday\":\"5:30-15:0\",\"Wednesday\":\"5:30-15:0\",\"Thursday\":\"5:30-15:0\",\"Friday\":\"5:30-15:0\",\"Saturday\":\"6:0-15:0\",\"Sunday\":\"6:0-15:0\"}}\n\n{\"business_id\":\"5d6Z-FjQ3g7TZxIs9mJ9kw\",\"name\":\"Sunbelt Rentals \",\"address\":\"2066 E University Dr \",\"city\":\"Tempe \",\"state\":\"AZ\",\"postal_code\":\"85281\",\"latitude\":33.422682,\"longitude\":-111.898841,\"stars\":5.0,\"review_count\":5,\"is_open\":1,\"attributes\":{\"BusinessAcceptsCreditCards\":\"True\"},\"categories\":\"Building Supplies, Home Services\",\"hours\":{\"Monday\":\"7:0-17:0\",\"Tuesday\":\"7:0-17:0\",\"Wednesday\":\"7:0-17:0\",\"Thursday\":\"7:0-17:0\",\"Friday\":\"7:0-17:0\"}}\n\n{\"business_id\":\"hskVqZCPqy-omm9CHi44xQ\",\"name\":\"Domino's\",\"address\":\"6420 Rea Rd, Suite B1\",\"city\":\"Charlotte\",\"state\":\"NC\",\"postal_code\":\"28226\",\"latitude\":35.0785379,\"longitude\":-80.8183578,\"stars\":2.0,\"review_count\":16,\"is_open\":1,\"attributes\":{\"BusinessAcceptsCreditCards\":\"True\",\"RestaurantsTakeOut\":\"True\",\"RestaurantsGoodForGroups\":\"True\",\"RestaurantsReservations\":\"False\",\"GoodForKids\":\"True\",\"Alcohol\":\"u'none'\",\"RestaurantsAttire\":\"u'casual'\",\"WiFi\":\"u'no'\",\"OutdoorSeating\":\"False\",\"RestaurantsDelivery\":\"True\",\"Ambience\":\"{'touristy': False, 'hipster': False, 'romantic': False, 'divey': False, 'intimate': False, 'trendy': False, 'upscale': False, 'classy': False, 'casual': False}\",\"BikeParking\":\"True\",\"RestaurantsPriceRange2\":\"1\",\"BusinessParking\":\"{'garage': False, 'street': False, 'validated': False, 'lot': True, 'valet': False}\",\"HasTV\":\"True\"},\"categories\":\"Restaurants, Pizza, Sandwiches, Fast Food, Chicken Wings\",\"hours\":{\"Monday\":\"10:30-0:0\",\"Tuesday\":\"10:30-0:0\",\"Wednesday\":\"10:30-0:0\",\"Thursday\":\"10:30-0:0\",\"Friday\":\"10:30-1:0\",\"Saturday\":\"10:30-1:0\",\"Sunday\":\"10:30-0:0\"}}\n\n{\"business_id\":\"JjcJVqhZXhP4tvOhg3fnag\",\"name\":\"Water Heater Pros\",\"address\":\"\",\"city\":\"Las Vegas\",\"state\":\"NV\",\"postal_code\":\"89120\",\"latitude\":36.0769768274,\"longitude\":-115.244794165,\"stars\":5.0,\"review_count\":217,\"is_open\":1,\"attributes\":{\"BusinessAcceptsCreditCards\":\"True\",\"ByAppointmentOnly\":\"False\"},\"categories\":\"Contractors, Local Services, Appliances & Repair, Heating & Air Conditioning\\/HVAC, Water Heater Installation\\/Repair, Plumbing, Home Services\",\"hours\":{\"Monday\":\"0:0-0:0\",\"Tuesday\":\"8:0-17:0\",\"Wednesday\":\"8:0-17:0\",\"Thursday\":\"8:0-17:0\",\"Friday\":\"8:0-17:0\"}}\n\n{\"business_id\":\"KdGtDThLduB8Vf-z-qKEFA\",\"name\":\"Aldo\",\"address\":\"6455 Macleod Trl SW\",\"city\":\"Calgary\",\"state\":\"AB\",\"postal_code\":\"T2H\",\"latitude\":50.9975712805,\"longitude\":-114.0733688893,\"stars\":3.5,\"review_count\":3,\"is_open\":1,\"attributes\":null,\"categories\":\"Shopping, Fashion, Accessories, Shoe Stores\",\"hours\":null}\n\n{\"business_id\":\"9Q0fPWAjUweoFDk0kafuzQ\",\"name\":\"Nishi Sushi\",\"address\":\"9750 Weston Road\",\"city\":\"Vaughan\",\"state\":\"ON\",\"postal_code\":\"L4H 2P2\",\"latitude\":43.8385554626,\"longitude\":-79.5598231224,\"stars\":4.0,\"review_count\":5,\"is_open\":0,\"attributes\":{\"Ambience\":\"{'romantic': False, 'intimate': False, 'classy': False, 'upscale': False, 'touristy': False, 'trendy': False, 'hipster': False, 'casual': False}\",\"RestaurantsReservations\":\"True\",\"OutdoorSeating\":\"False\",\"HasTV\":\"False\",\"NoiseLevel\":\"u'quiet'\",\"RestaurantsAttire\":\"u'casual'\",\"BusinessParking\":\"{'garage': False, 'street': False, 'validated': False, 'lot': False, 'valet': False}\",\"WiFi\":\"'free'\",\"RestaurantsGoodForGroups\":\"True\",\"RestaurantsPriceRange2\":\"2\",\"GoodForKids\":\"True\",\"RestaurantsDelivery\":\"False\",\"Alcohol\":\"u'beer_and_wine'\",\"RestaurantsTakeOut\":\"True\"},\"categories\":\"Japanese, Sushi Bars, Restaurants\",\"hours\":{\"Monday\":\"11:0-22:0\",\"Tuesday\":\"11:0-22:0\",\"Wednesday\":\"11:0-22:0\",\"Thursday\":\"11:0-22:0\",\"Friday\":\"11:0-22:0\",\"Saturday\":\"11:0-22:0\"}}\n\n{\"business_id\":\"PotiAhtDMYMNsJCzV0oLAw\",\"name\":\"Walmart\",\"address\":\"3240 Wilkinson Blvd\",\"city\":\"Charlotte\",\"state\":\"NC\",\"postal_code\":\"28208\",\"latitude\":35.226307,\"longitude\":-80.893539,\"stars\":2.0,\"review_count\":13,\"is_open\":0,\"attributes\":{\"RestaurantsPriceRange2\":\"1\",\"BusinessParking\":\"{'garage': False, 'street': False, 'validated': False, 'lot': True, 'valet': False}\",\"BusinessAcceptsCreditCards\":\"True\"},\"categories\":\"Department Stores, Food, Mobile Phones, Fashion, Shopping, Grocery\",\"hours\":null}\n\n{\"business_id\":\"SYa2j1boLF8DcGVOYfHPcA\",\"name\":\"Five Guys\",\"address\":\"7014-590 E Camelback Rd\",\"city\":\"Scottsdale\",\"state\":\"AZ\",\"postal_code\":\"85251\",\"latitude\":33.50406238,\"longitude\":-111.9294306419,\"stars\":3.5,\"review_count\":97,\"is_open\":1,\"attributes\":{\"BusinessAcceptsCreditCards\":\"True\",\"RestaurantsPriceRange2\":\"2\",\"RestaurantsAttire\":\"u'casual'\",\"Alcohol\":\"u'none'\",\"RestaurantsReservations\":\"False\",\"RestaurantsTakeOut\":\"True\",\"RestaurantsGoodForGroups\":\"True\",\"Ambience\":\"{'romantic': False, 'intimate': False, 'touristy': False, 'hipster': False, 'divey': False, 'classy': False, 'trendy': False, 'upscale': False, 'casual': True}\",\"BikeParking\":\"True\",\"GoodForKids\":\"True\",\"DriveThru\":\"False\",\"WiFi\":\"u'no'\",\"BusinessParking\":\"{'garage': False, 'street': False, 'validated': False, 'lot': True, 'valet': False}\",\"Caters\":\"False\",\"RestaurantsDelivery\":\"False\",\"NoiseLevel\":\"u'average'\",\"OutdoorSeating\":\"True\",\"HasTV\":\"False\",\"GoodForMeal\":\"{'dessert': False, 'latenight': False, 'lunch': True, 'dinner': True, 'brunch': False, 'breakfast': False}\"},\"categories\":\"American (New), Food, Burgers, Restaurants, Fast Food\",\"hours\":{\"Monday\":\"11:0-22:0\",\"Tuesday\":\"11:0-22:0\",\"Wednesday\":\"11:0-22:0\",\"Thursday\":\"11:0-22:0\",\"Friday\":\"11:0-22:0\",\"Saturday\":\"11:0-22:0\",\"Sunday\":\"11:0-19:0\"}}\n\n{\"business_id\":\"RSSIsgO00OuWQTRoITacpA\",\"name\":\"Indian Trail Dog Training\",\"address\":\"\",\"city\":\"Indian Trail\",\"state\":\"NC\",\"postal_code\":\"28079\",\"latitude\":35.1019648,\"longitude\":-80.5993854,\"stars\":5.0,\"review_count\":3,\"is_open\":1,\"attributes\":null,\"categories\":\"Pet Services, Pet Training, Pets\",\"hours\":{\"Monday\":\"0:0-0:0\",\"Tuesday\":\"7:0-19:0\",\"Wednesday\":\"7:0-19:0\",\"Thursday\":\"7:0-19:0\",\"Friday\":\"7:0-19:0\",\"Saturday\":\"9:0-19:0\",\"Sunday\":\"9:0-19:0\"}}\n\n{\"business_id\":\"tOcYmewXFhQeZh3V42ymwg\",\"name\":\"Kudlow Ye\",\"address\":\"21 St Clair Avenue E, Suite 401\",\"city\":\"Toronto\",\"state\":\"ON\",\"postal_code\":\"M4T 1L9\",\"latitude\":43.6882141,\"longitude\":-79.3927559,\"stars\":5.0,\"review_count\":3,\"is_open\":1,\"attributes\":null,\"categories\":\"Tax Services, Professional Services, Accountants, Financial Services\",\"hours\":{\"Monday\":\"9:0-18:0\",\"Tuesday\":\"9:0-18:0\",\"Wednesday\":\"9:0-18:0\",\"Thursday\":\"9:0-18:0\",\"Friday\":\"9:0-18:0\"}}\n\n"
    }
   ],
   "source": [
    "with open(data_path, 'r') as f:\n",
    "    for line in f:\n",
    "        print(line)\n",
    "        test_list.append(line)        \n"
   ]
  },
  {
   "cell_type": "code",
   "execution_count": 4,
   "metadata": {},
   "outputs": [
    {
     "output_type": "execute_result",
     "data": {
      "text/plain": "209393"
     },
     "metadata": {},
     "execution_count": 4
    }
   ],
   "source": [
    "len(test_list)"
   ]
  },
  {
   "cell_type": "code",
   "execution_count": 5,
   "metadata": {},
   "outputs": [
    {
     "output_type": "execute_result",
     "data": {
      "text/plain": "                                                     test\n0       {\"business_id\":\"f9NumwFMBDn751xgFiRbNA\",\"name\"...\n1       {\"business_id\":\"Yzvjg0SayhoZgCljUJRF9Q\",\"name\"...\n2       {\"business_id\":\"XNoUzKckATkOD1hP6vghZg\",\"name\"...\n3       {\"business_id\":\"6OAZjbxqM5ol29BuHsil3w\",\"name\"...\n4       {\"business_id\":\"51M2Kk903DFYI6gnB5I6SQ\",\"name\"...\n...                                                   ...\n209388  {\"business_id\":\"9Q0fPWAjUweoFDk0kafuzQ\",\"name\"...\n209389  {\"business_id\":\"PotiAhtDMYMNsJCzV0oLAw\",\"name\"...\n209390  {\"business_id\":\"SYa2j1boLF8DcGVOYfHPcA\",\"name\"...\n209391  {\"business_id\":\"RSSIsgO00OuWQTRoITacpA\",\"name\"...\n209392  {\"business_id\":\"tOcYmewXFhQeZh3V42ymwg\",\"name\"...\n\n[209393 rows x 1 columns]",
      "text/html": "<div>\n<style scoped>\n    .dataframe tbody tr th:only-of-type {\n        vertical-align: middle;\n    }\n\n    .dataframe tbody tr th {\n        vertical-align: top;\n    }\n\n    .dataframe thead th {\n        text-align: right;\n    }\n</style>\n<table border=\"1\" class=\"dataframe\">\n  <thead>\n    <tr style=\"text-align: right;\">\n      <th></th>\n      <th>test</th>\n    </tr>\n  </thead>\n  <tbody>\n    <tr>\n      <th>0</th>\n      <td>{\"business_id\":\"f9NumwFMBDn751xgFiRbNA\",\"name\"...</td>\n    </tr>\n    <tr>\n      <th>1</th>\n      <td>{\"business_id\":\"Yzvjg0SayhoZgCljUJRF9Q\",\"name\"...</td>\n    </tr>\n    <tr>\n      <th>2</th>\n      <td>{\"business_id\":\"XNoUzKckATkOD1hP6vghZg\",\"name\"...</td>\n    </tr>\n    <tr>\n      <th>3</th>\n      <td>{\"business_id\":\"6OAZjbxqM5ol29BuHsil3w\",\"name\"...</td>\n    </tr>\n    <tr>\n      <th>4</th>\n      <td>{\"business_id\":\"51M2Kk903DFYI6gnB5I6SQ\",\"name\"...</td>\n    </tr>\n    <tr>\n      <th>...</th>\n      <td>...</td>\n    </tr>\n    <tr>\n      <th>209388</th>\n      <td>{\"business_id\":\"9Q0fPWAjUweoFDk0kafuzQ\",\"name\"...</td>\n    </tr>\n    <tr>\n      <th>209389</th>\n      <td>{\"business_id\":\"PotiAhtDMYMNsJCzV0oLAw\",\"name\"...</td>\n    </tr>\n    <tr>\n      <th>209390</th>\n      <td>{\"business_id\":\"SYa2j1boLF8DcGVOYfHPcA\",\"name\"...</td>\n    </tr>\n    <tr>\n      <th>209391</th>\n      <td>{\"business_id\":\"RSSIsgO00OuWQTRoITacpA\",\"name\"...</td>\n    </tr>\n    <tr>\n      <th>209392</th>\n      <td>{\"business_id\":\"tOcYmewXFhQeZh3V42ymwg\",\"name\"...</td>\n    </tr>\n  </tbody>\n</table>\n<p>209393 rows × 1 columns</p>\n</div>"
     },
     "metadata": {},
     "execution_count": 5
    }
   ],
   "source": [
    "pd.DataFrame({'test': test_list})"
   ]
  },
  {
   "cell_type": "code",
   "execution_count": 6,
   "metadata": {},
   "outputs": [],
   "source": [
    "test_list_dict = []"
   ]
  },
  {
   "cell_type": "code",
   "execution_count": 7,
   "metadata": {
    "tags": [
     "outputPrepend"
    ]
   },
   "outputs": [
    {
     "output_type": "stream",
     "name": "stdout",
     "text": "Dk0GQ', 'name': 'Subway Restaurants', 'address': '583 Clairton Blvd', 'city': 'Pleasant Hills', 'state': 'PA', 'postal_code': '15236', 'latitude': 40.3329541, 'longitude': -79.9442205, 'stars': 1.0, 'review_count': 3, 'is_open': 1, 'attributes': {'WiFi': \"'free'\", 'GoodForKids': 'True', 'BusinessAcceptsCreditCards': 'True', 'RestaurantsTakeOut': 'True', 'RestaurantsAttire': \"'casual'\", 'RestaurantsReservations': 'False', 'RestaurantsPriceRange2': '1', 'RestaurantsDelivery': 'False', 'RestaurantsGoodForGroups': 'True'}, 'categories': 'Restaurants, Sandwiches, Fast Food', 'hours': {'Monday': '9:0-21:0', 'Tuesday': '9:0-21:0', 'Wednesday': '9:0-21:0', 'Thursday': '9:0-21:0', 'Friday': '9:0-21:0', 'Saturday': '9:0-20:0', 'Sunday': '9:0-19:0'}}\n<class 'dict'>\n-----------\n{\"business_id\":\"1muT5zEqoC4qp9ms08qJtQ\",\"name\":\"Gino's East\",\"address\":\"3626 E Indian School Rd\",\"city\":\"Phoenix\",\"state\":\"AZ\",\"postal_code\":\"85018\",\"latitude\":33.4955396858,\"longitude\":-112.0029777404,\"stars\":3.5,\"review_count\":379,\"is_open\":0,\"attributes\":{\"RestaurantsGoodForGroups\":\"True\",\"Alcohol\":\"u'full_bar'\",\"BusinessAcceptsCreditCards\":\"True\",\"HappyHour\":\"True\",\"GoodForKids\":\"True\",\"RestaurantsTableService\":\"True\",\"BikeParking\":\"True\",\"RestaurantsAttire\":\"u'casual'\",\"WheelchairAccessible\":\"True\",\"GoodForMeal\":\"{'dessert': False, 'latenight': False, 'lunch': True, 'dinner': True, 'brunch': False, 'breakfast': False}\",\"RestaurantsReservations\":\"True\",\"BusinessParking\":\"{'garage': False, 'street': False, 'validated': False, 'lot': True, 'valet': False}\",\"RestaurantsDelivery\":\"None\",\"HasTV\":\"True\",\"OutdoorSeating\":\"True\",\"WiFi\":\"'free'\",\"NoiseLevel\":\"u'average'\",\"Music\":\"{'dj': False, 'background_music': False, 'no_music': False, 'jukebox': False, 'live': False, 'video': False, 'karaoke': False}\",\"Caters\":\"True\",\"Ambience\":\"{'touristy': False, 'hipster': False, 'romantic': False, 'divey': False, 'intimate': False, 'trendy': False, 'upscale': False, 'classy': False, 'casual': True}\",\"RestaurantsTakeOut\":\"True\",\"RestaurantsPriceRange2\":\"2\"},\"categories\":\"Sandwiches, Salad, Italian, Sports Bars, Nightlife, Pizza, Bars, Breakfast & Brunch, Restaurants\",\"hours\":{\"Monday\":\"11:0-21:0\",\"Tuesday\":\"11:0-21:0\",\"Wednesday\":\"11:0-21:0\",\"Thursday\":\"11:0-21:0\",\"Friday\":\"11:0-23:0\",\"Saturday\":\"11:0-23:0\",\"Sunday\":\"11:0-21:0\"}}\n\n92023\n{'business_id': '1muT5zEqoC4qp9ms08qJtQ', 'name': \"Gino's East\", 'address': '3626 E Indian School Rd', 'city': 'Phoenix', 'state': 'AZ', 'postal_code': '85018', 'latitude': 33.4955396858, 'longitude': -112.0029777404, 'stars': 3.5, 'review_count': 379, 'is_open': 0, 'attributes': {'RestaurantsGoodForGroups': 'True', 'Alcohol': \"u'full_bar'\", 'BusinessAcceptsCreditCards': 'True', 'HappyHour': 'True', 'GoodForKids': 'True', 'RestaurantsTableService': 'True', 'BikeParking': 'True', 'RestaurantsAttire': \"u'casual'\", 'WheelchairAccessible': 'True', 'GoodForMeal': \"{'dessert': False, 'latenight': False, 'lunch': True, 'dinner': True, 'brunch': False, 'breakfast': False}\", 'RestaurantsReservations': 'True', 'BusinessParking': \"{'garage': False, 'street': False, 'validated': False, 'lot': True, 'valet': False}\", 'RestaurantsDelivery': 'None', 'HasTV': 'True', 'OutdoorSeating': 'True', 'WiFi': \"'free'\", 'NoiseLevel': \"u'average'\", 'Music': \"{'dj': False, 'background_music': False, 'no_music': False, 'jukebox': False, 'live': False, 'video': False, 'karaoke': False}\", 'Caters': 'True', 'Ambience': \"{'touristy': False, 'hipster': False, 'romantic': False, 'divey': False, 'intimate': False, 'trendy': False, 'upscale': False, 'classy': False, 'casual': True}\", 'RestaurantsTakeOut': 'True', 'RestaurantsPriceRange2': '2'}, 'categories': 'Sandwiches, Salad, Italian, Sports Bars, Nightlife, Pizza, Bars, Breakfast & Brunch, Restaurants', 'hours': {'Monday': '11:0-21:0', 'Tuesday': '11:0-21:0', 'Wednesday': '11:0-21:0', 'Thursday': '11:0-21:0', 'Friday': '11:0-23:0', 'Saturday': '11:0-23:0', 'Sunday': '11:0-21:0'}}\n<class 'dict'>\n-----------\n{\"business_id\":\"xHDOs0SylaUIH_eYFMvZ9Q\",\"name\":\"Stanley Steemer\",\"address\":\"30030 Lakeland Blvd\",\"city\":\"Wickliffe\",\"state\":\"OH\",\"postal_code\":\"44092\",\"latitude\":41.6188779305,\"longitude\":-81.4678815009,\"stars\":3.5,\"review_count\":7,\"is_open\":1,\"attributes\":{\"BusinessAcceptsCreditCards\":\"True\",\"ByAppointmentOnly\":\"True\"},\"categories\":\"Damage Restoration, Air Duct Cleaning, Home Services, Home Cleaning, Carpet Cleaning, Local Services\",\"hours\":{\"Monday\":\"0:0-0:0\",\"Tuesday\":\"0:0-0:0\",\"Wednesday\":\"0:0-0:0\",\"Thursday\":\"0:0-0:0\",\"Friday\":\"0:0-0:0\",\"Saturday\":\"0:0-0:0\",\"Sunday\":\"0:0-0:0\"}}\n\n92024\n{'business_id': 'xHDOs0SylaUIH_eYFMvZ9Q', 'name': 'Stanley Steemer', 'address': '30030 Lakeland Blvd', 'city': 'Wickliffe', 'state': 'OH', 'postal_code': '44092', 'latitude': 41.6188779305, 'longitude': -81.4678815009, 'stars': 3.5, 'review_count': 7, 'is_open': 1, 'attributes': {'BusinessAcceptsCreditCards': 'True', 'ByAppointmentOnly': 'True'}, 'categories': 'Damage Restoration, Air Duct Cleaning, Home Services, Home Cleaning, Carpet Cleaning, Local Services', 'hours': {'Monday': '0:0-0:0', 'Tuesday': '0:0-0:0', 'Wednesday': '0:0-0:0', 'Thursday': '0:0-0:0', 'Friday': '0:0-0:0', 'Saturday': '0:0-0:0', 'Sunday': '0:0-0:0'}}\n<class 'dict'>\n-----------\n{\"business_id\":\"5indH5UpallkkTNmXTMn7w\",\"name\":\"Popeyes Louisiana Kitchen\",\"address\":\"14747 Lorain Ave\",\"city\":\"Cleveland\",\"state\":\"OH\",\"postal_code\":\"44111\",\"latitude\":41.452991,\"longitude\":-81.799606,\"stars\":2.0,\"review_count\":35,\"is_open\":1,\"attributes\":{\"HasTV\":\"False\",\"RestaurantsDelivery\":\"False\",\"RestaurantsPriceRange2\":\"1\",\"Caters\":\"True\",\"NoiseLevel\":\"u'quiet'\",\"RestaurantsGoodForGroups\":\"True\",\"BusinessParking\":\"{'garage': False, 'street': False, 'validated': False, 'lot': True, 'valet': False}\",\"Ambience\":\"{'romantic': False, 'intimate': False, 'touristy': False, 'hipster': False, 'divey': False, 'classy': False, 'trendy': False, 'upscale': False, 'casual': False}\",\"RestaurantsTakeOut\":\"True\",\"RestaurantsReservations\":\"False\",\"Alcohol\":\"u'none'\",\"BusinessAcceptsCreditCards\":\"True\",\"GoodForKids\":\"True\",\"WiFi\":\"u'no'\",\"OutdoorSeating\":\"False\",\"DriveThru\":\"True\",\"RestaurantsAttire\":\"u'casual'\",\"BikeParking\":\"False\",\"GoodForMeal\":\"{'dessert': False, 'latenight': False, 'lunch': False, 'dinner': False, 'brunch': False, 'breakfast': False}\"},\"categories\":\"Fast Food, Southern, Restaurants, American (Traditional), Chicken Wings\",\"hours\":{\"Monday\":\"10:30-23:0\",\"Tuesday\":\"10:30-23:0\",\"Wednesday\":\"10:30-23:0\",\"Thursday\":\"10:30-23:0\",\"Friday\":\"10:30-23:0\",\"Saturday\":\"10:30-23:0\",\"Sunday\":\"10:30-22:0\"}}\n\n92025\n{'business_id': '5indH5UpallkkTNmXTMn7w', 'name': 'Popeyes Louisiana Kitchen', 'address': '14747 Lorain Ave', 'city': 'Cleveland', 'state': 'OH', 'postal_code': '44111', 'latitude': 41.452991, 'longitude': -81.799606, 'stars': 2.0, 'review_count': 35, 'is_open': 1, 'attributes': {'HasTV': 'False', 'RestaurantsDelivery': 'False', 'RestaurantsPriceRange2': '1', 'Caters': 'True', 'NoiseLevel': \"u'quiet'\", 'RestaurantsGoodForGroups': 'True', 'BusinessParking': \"{'garage': False, 'street': False, 'validated': False, 'lot': True, 'valet': False}\", 'Ambience': \"{'romantic': False, 'intimate': False, 'touristy': False, 'hipster': False, 'divey': False, 'classy': False, 'trendy': False, 'upscale': False, 'casual': False}\", 'RestaurantsTakeOut': 'True', 'RestaurantsReservations': 'False', 'Alcohol': \"u'none'\", 'BusinessAcceptsCreditCards': 'True', 'GoodForKids': 'True', 'WiFi': \"u'no'\", 'OutdoorSeating': 'False', 'DriveThru': 'True', 'RestaurantsAttire': \"u'casual'\", 'BikeParking': 'False', 'GoodForMeal': \"{'dessert': False, 'latenight': False, 'lunch': False, 'dinner': False, 'brunch': False, 'breakfast': False}\"}, 'categories': 'Fast Food, Southern, Restaurants, American (Traditional), Chicken Wings', 'hours': {'Monday': '10:30-23:0', 'Tuesday': '10:30-23:0', 'Wednesday': '10:30-23:0', 'Thursday': '10:30-23:0', 'Friday': '10:30-23:0', 'Saturday': '10:30-23:0', 'Sunday': '10:30-22:0'}}\n<class 'dict'>\n-----------\n{\"business_id\":\"Ys5qxhXBYDBynvVA-6ovCg\",\"name\":\"Matthew Smith\",\"address\":\"\",\"city\":\"Toronto\",\"state\":\"ON\",\"postal_code\":\"M6J 1H9\",\"latitude\":43.6436404,\"longitude\":-79.4230949879,\"stars\":5.0,\"review_count\":3,\"is_open\":1,\"attributes\":{\"ByAppointmentOnly\":\"True\"},\"categories\":\"Home Services, Real Estate Agents, Real Estate, Real Estate Services\",\"hours\":null}\n\n92026\n{'business_id': 'Ys5qxhXBYDBynvVA-6ovCg', 'name': 'Matthew Smith', 'address': '', 'city': 'Toronto', 'state': 'ON', 'postal_code': 'M6J 1H9', 'latitude': 43.6436404, 'longitude': -79.4230949879, 'stars': 5.0, 'review_count': 3, 'is_open': 1, 'attributes': {'ByAppointmentOnly': 'True'}, 'categories': 'Home Services, Real Estate Agents, Real Estate, Real Estate Services', 'hours': None}\n<class 'dict'>\n-----------\n{\"business_id\":\"oXUu23qquLIvWyLA7e-6ZA\",\"name\":\"Every Kid's Dentist & Orthodontics\",\"address\":\"17081 W Greenway Rd, Ste 121\",\"city\":\"Surprise\",\"state\":\"AZ\",\"postal_code\":\"85388\",\"latitude\":33.6236887,\"longitude\":-112.4263841,\"stars\":3.0,\"review_count\":26,\"is_open\":1,\"attributes\":{\"ByAppointmentOnly\":\"True\",\"AcceptsInsurance\":\"True\",\"BusinessAcceptsCreditCards\":\"True\"},\"categories\":\"Dentists, Health & Medical, Oral Surgeons, Orthodontists, Pediatric Dentists, Cosmetic Dentists, General Dentistry\",\"hours\":{\"Monday\":\"8:0-17:0\",\"Tuesday\":\"8:0-18:0\",\"Wednesday\":\"8:0-18:0\",\"Saturday\":\"8:0-14:0\"}}\n\n92027\n{'business_id': 'oXUu23qquLIvWyLA7e-6ZA', 'name': \"Every Kid's Dentist & Orthodontics\", 'address': '17081 W Greenway Rd, Ste 121', 'city': 'Surprise', 'state': 'AZ', 'postal_code': '85388', 'latitude': 33.6236887, 'longitude': -112.4263841, 'stars': 3.0, 'review_count': 26, 'is_open': 1, 'attributes': {'ByAppointmentOnly': 'True', 'AcceptsInsurance': 'True', 'BusinessAcceptsCreditCards': 'True'}, 'categories': 'Dentists, Health & Medical, Oral Surgeons, Orthodontists, Pediatric Dentists, Cosmetic Dentists, General Dentistry', 'hours': {'Monday': '8:0-17:0', 'Tuesday': '8:0-18:0', 'Wednesday': '8:0-18:0', 'Saturday': '8:0-14:0'}}\n<class 'dict'>\n-----------\n{\"business_id\":\"ry2nH8MqK-ZFhaEkhsgCnw\",\"name\":\"Sonoran Hills Dental\",\"address\":\"4909 E Chandler Blvd, Ste 501\",\"city\":\"Phoenix\",\"state\":\"AZ\",\"postal_code\":\"85045\",\"latitude\":33.304017,\"longitude\":-111.978616,\"stars\":5.0,\"review_count\":52,\"is_open\":1,\"attributes\":{\"ByAppointmentOnly\":\"True\",\"BusinessAcceptsCreditCards\":\"True\"},\"categories\":\"Dentists, Health & Medical, Cosmetic Dentists, General Dentistry\",\"hours\":{\"Tuesday\":\"9:0-18:0\",\"Wednesday\":\"9:0-18:0\",\"Thursday\":\"9:0-18:0\",\"Friday\":\"8:0-17:0\"}}\n\n92028\n{'business_id': 'ry2nH8MqK-ZFhaEkhsgCnw', 'name': 'Sonoran Hills Dental', 'address': '4909 E Chandler Blvd, Ste 501', 'city': 'Phoenix', 'state': 'AZ', 'postal_code': '85045', 'latitude': 33.304017, 'longitude': -111.978616, 'stars': 5.0, 'review_count': 52, 'is_open': 1, 'attributes': {'ByAppointmentOnly': 'True', 'BusinessAcceptsCreditCards': 'True'}, 'categories': 'Dentists, Health & Medical, Cosmetic Dentists, General Dentistry', 'hours': {'Tuesday': '9:0-18:0', 'Wednesday': '9:0-18:0', 'Thursday': '9:0-18:0', 'Friday': '8:0-17:0'}}\n<class 'dict'>\n-----------\n{\"business_id\":\"g-VEI8WlXzY-7PVuCNkB_w\",\"name\":\"Salon Chroma\",\"address\":\"7940 Tree Ln, Ste 215\",\"city\":\"Madison\",\"state\":\"WI\",\"postal_code\":\"53717\",\"latitude\":43.0606701,\"longitude\":-89.519906,\"stars\":5.0,\"review_count\":3,\"is_open\":0,\"attributes\":{\"BusinessParking\":\"{'garage': False, 'street': False, 'validated': False, 'lot': False, 'valet': False}\",\"GoodForKids\":\"True\",\"BusinessAcceptsCreditCards\":\"True\",\"ByAppointmentOnly\":\"True\",\"RestaurantsPriceRange2\":\"2\"},\"categories\":\"Beauty & Spas, Hair Extensions, Hair Salons\",\"hours\":{\"Monday\":\"10:0-19:0\",\"Tuesday\":\"10:0-19:0\",\"Wednesday\":\"12:0-20:0\",\"Thursday\":\"12:0-20:0\",\"Friday\":\"10:0-19:0\",\"Saturday\":\"10:0-15:0\"}}\n\n92029\n{'business_id': 'g-VEI8WlXzY-7PVuCNkB_w', 'name': 'Salon Chroma', 'address': '7940 Tree Ln, Ste 215', 'city': 'Madison', 'state': 'WI', 'postal_code': '53717', 'latitude': 43.0606701, 'longitude': -89.519906, 'stars': 5.0, 'review_count': 3, 'is_open': 0, 'attributes': {'BusinessParking': \"{'garage': False, 'street': False, 'validated': False, 'lot': False, 'valet': False}\", 'GoodForKids': 'True', 'BusinessAcceptsCreditCards': 'True', 'ByAppointmentOnly': 'True', 'RestaurantsPriceRange2': '2'}, 'categories': 'Beauty & Spas, Hair Extensions, Hair Salons', 'hours': {'Monday': '10:0-19:0', 'Tuesday': '10:0-19:0', 'Wednesday': '12:0-20:0', 'Thursday': '12:0-20:0', 'Friday': '10:0-19:0', 'Saturday': '10:0-15:0'}}\n<class 'dict'>\n-----------\n{\"business_id\":\"GpaZ8XqpAbbe5iY0Yz_0XA\",\"name\":\"La Bamboche\",\"address\":\"1712 Avenue Road\",\"city\":\"Toronto\",\"state\":\"ON\",\"postal_code\":\"M5M 3Y6\",\"latitude\":43.7281293,\"longitude\":-79.4182767,\"stars\":4.0,\"review_count\":34,\"is_open\":1,\"attributes\":{\"BikeParking\":\"True\",\"RestaurantsPriceRange2\":\"3\",\"RestaurantsTakeOut\":\"True\",\"RestaurantsDelivery\":\"True\",\"BusinessParking\":\"{'garage': False, 'street': True, 'validated': False, 'lot': False, 'valet': False}\"},\"categories\":\"Food, Bakeries\",\"hours\":{\"Monday\":\"7:30-18:0\",\"Tuesday\":\"7:30-18:0\",\"Wednesday\":\"7:30-18:0\",\"Thursday\":\"7:30-18:0\",\"Friday\":\"7:30-18:0\",\"Saturday\":\"7:30-18:0\",\"Sunday\":\"7:30-18:0\"}}\n\n92030\n{'business_id': 'GpaZ8XqpAbbe5iY0Yz_0XA', 'name': 'La Bamboche', 'address': '1712 Avenue Road', 'city': 'Toronto', 'state': 'ON', 'postal_code': 'M5M 3Y6', 'latitude': 43.7281293, 'longitude': -79.4182767, 'stars': 4.0, 'review_count': 34, 'is_open': 1, 'attributes': {'BikeParking': 'True', 'RestaurantsPriceRange2': '3', 'RestaurantsTakeOut': 'True', 'RestaurantsDelivery': 'True', 'BusinessParking': \"{'garage': False, 'street': True, 'validated': False, 'lot': False, 'valet': False}\"}, 'categories': 'Food, Bakeries', 'hours': {'Monday': '7:30-18:0', 'Tuesday': '7:30-18:0', 'Wednesday': '7:30-18:0', 'Thursday': '7:30-18:0', 'Friday': '7:30-18:0', 'Saturday': '7:30-18:0', 'Sunday': '7:30-18:0'}}\n<class 'dict'>\n-----------\n{\"business_id\":\"ekxQ-lrK1iC5IB7y4nK_vg\",\"name\":\"Holiday Inn Express Charlotte South - Pineville\",\"address\":\"9825 Leitner Dr\",\"city\":\"Pineville\",\"state\":\"NC\",\"postal_code\":\"28134\",\"latitude\":35.0875584,\"longitude\":-80.8811458,\"stars\":4.0,\"review_count\":5,\"is_open\":0,\"attributes\":{\"BusinessAcceptsCreditCards\":\"True\",\"RestaurantsPriceRange2\":\"2\",\"WiFi\":\"u'free'\"},\"categories\":\"Venues & Event Spaces, Hotels & Travel, Event Planning & Services, Hotels\",\"hours\":{\"Monday\":\"0:0-0:0\",\"Tuesday\":\"0:0-0:0\",\"Wednesday\":\"0:0-0:0\",\"Thursday\":\"0:0-0:0\",\"Friday\":\"0:0-0:0\",\"Saturday\":\"0:0-0:0\",\"Sunday\":\"0:0-0:0\"}}\n\n92031\n{'business_id': 'ekxQ-lrK1iC5IB7y4nK_vg', 'name': 'Holiday Inn Express Charlotte South - Pineville', 'address': '9825 Leitner Dr', 'city': 'Pineville', 'state': 'NC', 'postal_code': '28134', 'latitude': 35.0875584, 'longitude': -80.8811458, 'stars': 4.0, 'review_count': 5, 'is_open': 0, 'attributes': {'BusinessAcceptsCreditCards': 'True', 'RestaurantsPriceRange2': '2', 'WiFi': \"u'free'\"}, 'categories': 'Venues & Event Spaces, Hotels & Travel, Event Planning & Services, Hotels', 'hours': {'Monday': '0:0-0:0', 'Tuesday': '0:0-0:0', 'Wednesday': '0:0-0:0', 'Thursday': '0:0-0:0', 'Friday': '0:0-0:0', 'Saturday': '0:0-0:0', 'Sunday': '0:0-0:0'}}\n<class 'dict'>\n-----------\n{\"business_id\":\"5ltISbdTqooJBhlbzaJgFA\",\"name\":\"New Times Best Of Phoenix A'fare\",\"address\":\"2400 E Missouri Ave\",\"city\":\"Phoenix\",\"state\":\"AZ\",\"postal_code\":\"85016\",\"latitude\":33.523241,\"longitude\":-112.0233209,\"stars\":3.0,\"review_count\":11,\"is_open\":1,\"attributes\":{\"GoodForKids\":\"False\"},\"categories\":\"Food, Specialty Food, Arts & Entertainment, Festivals\",\"hours\":null}\n\n92032\n{'business_id': '5ltISbdTqooJBhlbzaJgFA', 'name': \"New Times Best Of Phoenix A'fare\", 'address': '2400 E Missouri Ave', 'city': 'Phoenix', 'state': 'AZ', 'postal_code': '85016', 'latitude': 33.523241, 'longitude': -112.0233209, 'stars': 3.0, 'review_count': 11, 'is_open': 1, 'attributes': {'GoodForKids': 'False'}, 'categories': 'Food, Specialty Food, Arts & Entertainment, Festivals', 'hours': None}\n<class 'dict'>\n-----------\n{\"business_id\":\"mKT30qU_MlLj4Ps82JAZ8w\",\"name\":\"Uno Pizzeria & Grill\",\"address\":\"3010 Crossroads Dr\",\"city\":\"Madison\",\"state\":\"WI\",\"postal_code\":\"53718\",\"latitude\":43.1354685,\"longitude\":-89.2908458,\"stars\":3.0,\"review_count\":95,\"is_open\":1,\"attributes\":{\"BusinessAcceptsCreditCards\":\"True\",\"RestaurantsAttire\":\"u'casual'\",\"NoiseLevel\":\"u'average'\",\"OutdoorSeating\":\"True\",\"RestaurantsTakeOut\":\"True\",\"RestaurantsDelivery\":\"True\",\"BusinessParking\":\"{'garage': False, 'street': False, 'validated': False, 'lot': True, 'valet': False}\",\"RestaurantsPriceRange2\":\"2\",\"HasTV\":\"True\",\"RestaurantsGoodForGroups\":\"True\",\"BikeParking\":\"True\",\"Alcohol\":\"u'full_bar'\",\"RestaurantsReservations\":\"True\",\"GoodForKids\":\"True\",\"Caters\":\"True\",\"Ambience\":\"{'romantic': False, 'intimate': False, 'touristy': False, 'hipster': False, 'divey': False, 'classy': False, 'trendy': False, 'upscale': False, 'casual': True}\",\"WiFi\":\"'free'\",\"GoodForMeal\":\"{'dessert': None, 'latenight': False, 'lunch': True, 'dinner': True, 'brunch': False, 'breakfast': False}\",\"RestaurantsTableService\":\"True\"},\"categories\":\"Restaurants, Pizza, Gluten-Free, American (Traditional)\",\"hours\":{\"Monday\":\"11:0-22:0\",\"Tuesday\":\"11:0-22:0\",\"Wednesday\":\"11:0-22:0\",\"Thursday\":\"11:0-22:0\",\"Friday\":\"11:0-23:0\",\"Saturday\":\"11:0-23:0\",\"Sunday\":\"11:0-22:0\"}}\n\n92033\n{'business_id': 'mKT30qU_MlLj4Ps82JAZ8w', 'name': 'Uno Pizzeria & Grill', 'address': '3010 Crossroads Dr', 'city': 'Madison', 'state': 'WI', 'postal_code': '53718', 'latitude': 43.1354685, 'longitude': -89.2908458, 'stars': 3.0, 'review_count': 95, 'is_open': 1, 'attributes': {'BusinessAcceptsCreditCards': 'True', 'RestaurantsAttire': \"u'casual'\", 'NoiseLevel': \"u'average'\", 'OutdoorSeating': 'True', 'RestaurantsTakeOut': 'True', 'RestaurantsDelivery': 'True', 'BusinessParking': \"{'garage': False, 'street': False, 'validated': False, 'lot': True, 'valet': False}\", 'RestaurantsPriceRange2': '2', 'HasTV': 'True', 'RestaurantsGoodForGroups': 'True', 'BikeParking': 'True', 'Alcohol': \"u'full_bar'\", 'RestaurantsReservations': 'True', 'GoodForKids': 'True', 'Caters': 'True', 'Ambience': \"{'romantic': False, 'intimate': False, 'touristy': False, 'hipster': False, 'divey': False, 'classy': False, 'trendy': False, 'upscale': False, 'casual': True}\", 'WiFi': \"'free'\", 'GoodForMeal': \"{'dessert': None, 'latenight': False, 'lunch': True, 'dinner': True, 'brunch': False, 'breakfast': False}\", 'RestaurantsTableService': 'True'}, 'categories': 'Restaurants, Pizza, Gluten-Free, American (Traditional)', 'hours': {'Monday': '11:0-22:0', 'Tuesday': '11:0-22:0', 'Wednesday': '11:0-22:0', 'Thursday': '11:0-22:0', 'Friday': '11:0-23:0', 'Saturday': '11:0-23:0', 'Sunday': '11:0-22:0'}}\n<class 'dict'>\n-----------\n{\"business_id\":\"D_cSpOD5fYkCE7gJC0_Vew\",\"name\":\"Yummy Grill Restaurant\",\"address\":\"531 Atkinson Avenue\",\"city\":\"Thornhill\",\"state\":\"ON\",\"postal_code\":\"L4J 8L7\",\"latitude\":43.818051,\"longitude\":-79.451338,\"stars\":3.5,\"review_count\":35,\"is_open\":1,\"attributes\":{\"Ambience\":\"{'romantic': False, 'intimate': False, 'classy': False, 'hipster': False, 'divey': False, 'touristy': False, 'trendy': False, 'upscale': False, 'casual': False}\",\"NoiseLevel\":\"u'quiet'\",\"Alcohol\":\"u'full_bar'\",\"Caters\":\"True\",\"RestaurantsDelivery\":\"True\",\"RestaurantsPriceRange2\":\"2\",\"WiFi\":\"u'free'\",\"HasTV\":\"True\",\"RestaurantsTakeOut\":\"True\",\"RestaurantsGoodForGroups\":\"True\",\"OutdoorSeating\":\"False\",\"GoodForKids\":\"True\",\"RestaurantsAttire\":\"u'casual'\",\"BikeParking\":\"False\",\"GoodForMeal\":\"{'dessert': False, 'latenight': False, 'lunch': True, 'dinner': True, 'brunch': False, 'breakfast': False}\",\"RestaurantsReservations\":\"True\",\"BusinessParking\":\"{'garage': False, 'street': False, 'validated': False, 'lot': True, 'valet': False}\"},\"categories\":\"Restaurants, Mediterranean, Middle Eastern\",\"hours\":{\"Monday\":\"11:0-22:0\",\"Tuesday\":\"11:0-22:0\",\"Wednesday\":\"11:0-22:0\",\"Thursday\":\"11:0-22:0\",\"Friday\":\"11:0-23:0\",\"Saturday\":\"11:0-23:0\",\"Sunday\":\"11:0-22:0\"}}\n\n"
    },
    {
     "output_type": "error",
     "ename": "KeyboardInterrupt",
     "evalue": "",
     "traceback": [
      "\u001b[0;31m---------------------------------------------------------------------------\u001b[0m",
      "\u001b[0;31mKeyboardInterrupt\u001b[0m                         Traceback (most recent call last)",
      "\u001b[0;32m<ipython-input-7-f9c73b9257db>\u001b[0m in \u001b[0;36m<module>\u001b[0;34m\u001b[0m\n\u001b[1;32m      2\u001b[0m     \u001b[0mprint\u001b[0m\u001b[0;34m(\u001b[0m\u001b[0mx\u001b[0m\u001b[0;34m)\u001b[0m\u001b[0;34m\u001b[0m\u001b[0;34m\u001b[0m\u001b[0m\n\u001b[1;32m      3\u001b[0m \u001b[0;34m\u001b[0m\u001b[0m\n\u001b[0;32m----> 4\u001b[0;31m     \u001b[0mprint\u001b[0m\u001b[0;34m(\u001b[0m\u001b[0mtest_list\u001b[0m\u001b[0;34m.\u001b[0m\u001b[0mindex\u001b[0m\u001b[0;34m(\u001b[0m\u001b[0mx\u001b[0m\u001b[0;34m)\u001b[0m \u001b[0;34m+\u001b[0m \u001b[0;36m1\u001b[0m\u001b[0;34m)\u001b[0m\u001b[0;34m\u001b[0m\u001b[0;34m\u001b[0m\u001b[0m\n\u001b[0m\u001b[1;32m      5\u001b[0m     \u001b[0md\u001b[0m \u001b[0;34m=\u001b[0m \u001b[0myaml\u001b[0m\u001b[0;34m.\u001b[0m\u001b[0mload\u001b[0m\u001b[0;34m(\u001b[0m\u001b[0mx\u001b[0m\u001b[0;34m)\u001b[0m\u001b[0;34m\u001b[0m\u001b[0;34m\u001b[0m\u001b[0m\n\u001b[1;32m      6\u001b[0m     \u001b[0mtest_list_dict\u001b[0m\u001b[0;34m.\u001b[0m\u001b[0mappend\u001b[0m\u001b[0;34m(\u001b[0m\u001b[0md\u001b[0m\u001b[0;34m)\u001b[0m\u001b[0;34m\u001b[0m\u001b[0;34m\u001b[0m\u001b[0m\n",
      "\u001b[0;31mKeyboardInterrupt\u001b[0m: "
     ]
    }
   ],
   "source": [
    "for x in test_list:\n",
    "    print(x)\n",
    "\n",
    "    print(test_list.index(x) + 1)\n",
    "    d = yaml.load(x)\n",
    "    test_list_dict.append(d)\n",
    "    print(d)\n",
    "    print(type(d))\n",
    "\n",
    "    print('-----------')"
   ]
  },
  {
   "cell_type": "code",
   "execution_count": 1,
   "metadata": {},
   "outputs": [
    {
     "output_type": "error",
     "ename": "NameError",
     "evalue": "name 'pd' is not defined",
     "traceback": [
      "\u001b[0;31m---------------------------------------------------------------------------\u001b[0m",
      "\u001b[0;31mNameError\u001b[0m                                 Traceback (most recent call last)",
      "\u001b[0;32m<ipython-input-1-3455c9718b7f>\u001b[0m in \u001b[0;36m<module>\u001b[0;34m\u001b[0m\n\u001b[0;32m----> 1\u001b[0;31m \u001b[0mpd\u001b[0m\u001b[0;34m.\u001b[0m\u001b[0mDataFrame\u001b[0m\u001b[0;34m(\u001b[0m\u001b[0;34m{\u001b[0m\u001b[0;34m'test'\u001b[0m\u001b[0;34m:\u001b[0m \u001b[0mtest_list_dict\u001b[0m\u001b[0;34m}\u001b[0m\u001b[0;34m)\u001b[0m\u001b[0;34m\u001b[0m\u001b[0;34m\u001b[0m\u001b[0m\n\u001b[0m",
      "\u001b[0;31mNameError\u001b[0m: name 'pd' is not defined"
     ]
    }
   ],
   "source": [
    "pd.DataFrame({'test': test_list_dict})"
   ]
  },
  {
   "cell_type": "code",
   "execution_count": null,
   "metadata": {},
   "outputs": [],
   "source": []
  },
  {
   "cell_type": "code",
   "execution_count": 17,
   "metadata": {},
   "outputs": [],
   "source": [
    "file = pd.read_json(data_path, lines=True)"
   ]
  },
  {
   "cell_type": "code",
   "execution_count": 18,
   "metadata": {},
   "outputs": [
    {
     "output_type": "execute_result",
     "data": {
      "text/plain": "                   business_id                       name  \\\n0       f9NumwFMBDn751xgFiRbNA   The Range At Lake Norman   \n1       Yzvjg0SayhoZgCljUJRF9Q          Carlos Santo, NMD   \n2       XNoUzKckATkOD1hP6vghZg                    Felinus   \n3       6OAZjbxqM5ol29BuHsil3w       Nevada House of Hose   \n4       51M2Kk903DFYI6gnB5I6SQ    USE MY GUY SERVICES LLC   \n...                        ...                        ...   \n209388  9Q0fPWAjUweoFDk0kafuzQ                Nishi Sushi   \n209389  PotiAhtDMYMNsJCzV0oLAw                    Walmart   \n209390  SYa2j1boLF8DcGVOYfHPcA                  Five Guys   \n209391  RSSIsgO00OuWQTRoITacpA  Indian Trail Dog Training   \n209392  tOcYmewXFhQeZh3V42ymwg                  Kudlow Ye   \n\n                                address             city state postal_code  \\\n0                       10913 Bailey Rd        Cornelius    NC       28031   \n1             8880 E Via Linda, Ste 107       Scottsdale    AZ       85258   \n2                 3554 Rue Notre-Dame O         Montreal    QC     H4C 1P4   \n3                        1015 Sharp Cir  North Las Vegas    NV       89030   \n4                    4827 E Downing Cir             Mesa    AZ       85205   \n...                                 ...              ...   ...         ...   \n209388                 9750 Weston Road          Vaughan    ON     L4H 2P2   \n209389              3240 Wilkinson Blvd        Charlotte    NC       28208   \n209390          7014-590 E Camelback Rd       Scottsdale    AZ       85251   \n209391                                      Indian Trail    NC       28079   \n209392  21 St Clair Avenue E, Suite 401          Toronto    ON     M4T 1L9   \n\n         latitude   longitude  stars  review_count  is_open  \\\n0       35.462724  -80.852612    3.5            36        1   \n1       33.569404 -111.890264    5.0             4        1   \n2       45.479984  -73.580070    5.0             5        1   \n3       36.219728 -115.127725    2.5             3        0   \n4       33.428065 -111.726648    4.5            26        1   \n...           ...         ...    ...           ...      ...   \n209388  43.838555  -79.559823    4.0             5        0   \n209389  35.226307  -80.893539    2.0            13        0   \n209390  33.504062 -111.929431    3.5            97        1   \n209391  35.101965  -80.599385    5.0             3        1   \n209392  43.688214  -79.392756    5.0             3        1   \n\n                                               attributes  \\\n0       {'BusinessAcceptsCreditCards': 'True', 'BikePa...   \n1       {'GoodForKids': 'True', 'ByAppointmentOnly': '...   \n2                                                    None   \n3       {'BusinessAcceptsCreditCards': 'True', 'ByAppo...   \n4       {'BusinessAcceptsCreditCards': 'True', 'ByAppo...   \n...                                                   ...   \n209388  {'Ambience': '{'romantic': False, 'intimate': ...   \n209389  {'RestaurantsPriceRange2': '1', 'BusinessParki...   \n209390  {'BusinessAcceptsCreditCards': 'True', 'Restau...   \n209391                                               None   \n209392                                               None   \n\n                                               categories  \\\n0       Active Life, Gun/Rifle Ranges, Guns & Ammo, Sh...   \n1       Health & Medical, Fitness & Instruction, Yoga,...   \n2                        Pets, Pet Services, Pet Groomers   \n3       Hardware Stores, Home Services, Building Suppl...   \n4       Home Services, Plumbing, Electricians, Handyma...   \n...                                                   ...   \n209388                  Japanese, Sushi Bars, Restaurants   \n209389  Department Stores, Food, Mobile Phones, Fashio...   \n209390  American (New), Food, Burgers, Restaurants, Fa...   \n209391                   Pet Services, Pet Training, Pets   \n209392  Tax Services, Professional Services, Accountan...   \n\n                                                    hours  \n0       {'Monday': '10:0-18:0', 'Tuesday': '11:0-20:0'...  \n1                                                    None  \n2                                                    None  \n3       {'Monday': '7:0-16:0', 'Tuesday': '7:0-16:0', ...  \n4       {'Monday': '0:0-0:0', 'Tuesday': '9:0-16:0', '...  \n...                                                   ...  \n209388  {'Monday': '11:0-22:0', 'Tuesday': '11:0-22:0'...  \n209389                                               None  \n209390  {'Monday': '11:0-22:0', 'Tuesday': '11:0-22:0'...  \n209391  {'Monday': '0:0-0:0', 'Tuesday': '7:0-19:0', '...  \n209392  {'Monday': '9:0-18:0', 'Tuesday': '9:0-18:0', ...  \n\n[209393 rows x 14 columns]",
      "text/html": "<div>\n<style scoped>\n    .dataframe tbody tr th:only-of-type {\n        vertical-align: middle;\n    }\n\n    .dataframe tbody tr th {\n        vertical-align: top;\n    }\n\n    .dataframe thead th {\n        text-align: right;\n    }\n</style>\n<table border=\"1\" class=\"dataframe\">\n  <thead>\n    <tr style=\"text-align: right;\">\n      <th></th>\n      <th>business_id</th>\n      <th>name</th>\n      <th>address</th>\n      <th>city</th>\n      <th>state</th>\n      <th>postal_code</th>\n      <th>latitude</th>\n      <th>longitude</th>\n      <th>stars</th>\n      <th>review_count</th>\n      <th>is_open</th>\n      <th>attributes</th>\n      <th>categories</th>\n      <th>hours</th>\n    </tr>\n  </thead>\n  <tbody>\n    <tr>\n      <th>0</th>\n      <td>f9NumwFMBDn751xgFiRbNA</td>\n      <td>The Range At Lake Norman</td>\n      <td>10913 Bailey Rd</td>\n      <td>Cornelius</td>\n      <td>NC</td>\n      <td>28031</td>\n      <td>35.462724</td>\n      <td>-80.852612</td>\n      <td>3.5</td>\n      <td>36</td>\n      <td>1</td>\n      <td>{'BusinessAcceptsCreditCards': 'True', 'BikePa...</td>\n      <td>Active Life, Gun/Rifle Ranges, Guns &amp; Ammo, Sh...</td>\n      <td>{'Monday': '10:0-18:0', 'Tuesday': '11:0-20:0'...</td>\n    </tr>\n    <tr>\n      <th>1</th>\n      <td>Yzvjg0SayhoZgCljUJRF9Q</td>\n      <td>Carlos Santo, NMD</td>\n      <td>8880 E Via Linda, Ste 107</td>\n      <td>Scottsdale</td>\n      <td>AZ</td>\n      <td>85258</td>\n      <td>33.569404</td>\n      <td>-111.890264</td>\n      <td>5.0</td>\n      <td>4</td>\n      <td>1</td>\n      <td>{'GoodForKids': 'True', 'ByAppointmentOnly': '...</td>\n      <td>Health &amp; Medical, Fitness &amp; Instruction, Yoga,...</td>\n      <td>None</td>\n    </tr>\n    <tr>\n      <th>2</th>\n      <td>XNoUzKckATkOD1hP6vghZg</td>\n      <td>Felinus</td>\n      <td>3554 Rue Notre-Dame O</td>\n      <td>Montreal</td>\n      <td>QC</td>\n      <td>H4C 1P4</td>\n      <td>45.479984</td>\n      <td>-73.580070</td>\n      <td>5.0</td>\n      <td>5</td>\n      <td>1</td>\n      <td>None</td>\n      <td>Pets, Pet Services, Pet Groomers</td>\n      <td>None</td>\n    </tr>\n    <tr>\n      <th>3</th>\n      <td>6OAZjbxqM5ol29BuHsil3w</td>\n      <td>Nevada House of Hose</td>\n      <td>1015 Sharp Cir</td>\n      <td>North Las Vegas</td>\n      <td>NV</td>\n      <td>89030</td>\n      <td>36.219728</td>\n      <td>-115.127725</td>\n      <td>2.5</td>\n      <td>3</td>\n      <td>0</td>\n      <td>{'BusinessAcceptsCreditCards': 'True', 'ByAppo...</td>\n      <td>Hardware Stores, Home Services, Building Suppl...</td>\n      <td>{'Monday': '7:0-16:0', 'Tuesday': '7:0-16:0', ...</td>\n    </tr>\n    <tr>\n      <th>4</th>\n      <td>51M2Kk903DFYI6gnB5I6SQ</td>\n      <td>USE MY GUY SERVICES LLC</td>\n      <td>4827 E Downing Cir</td>\n      <td>Mesa</td>\n      <td>AZ</td>\n      <td>85205</td>\n      <td>33.428065</td>\n      <td>-111.726648</td>\n      <td>4.5</td>\n      <td>26</td>\n      <td>1</td>\n      <td>{'BusinessAcceptsCreditCards': 'True', 'ByAppo...</td>\n      <td>Home Services, Plumbing, Electricians, Handyma...</td>\n      <td>{'Monday': '0:0-0:0', 'Tuesday': '9:0-16:0', '...</td>\n    </tr>\n    <tr>\n      <th>...</th>\n      <td>...</td>\n      <td>...</td>\n      <td>...</td>\n      <td>...</td>\n      <td>...</td>\n      <td>...</td>\n      <td>...</td>\n      <td>...</td>\n      <td>...</td>\n      <td>...</td>\n      <td>...</td>\n      <td>...</td>\n      <td>...</td>\n      <td>...</td>\n    </tr>\n    <tr>\n      <th>209388</th>\n      <td>9Q0fPWAjUweoFDk0kafuzQ</td>\n      <td>Nishi Sushi</td>\n      <td>9750 Weston Road</td>\n      <td>Vaughan</td>\n      <td>ON</td>\n      <td>L4H 2P2</td>\n      <td>43.838555</td>\n      <td>-79.559823</td>\n      <td>4.0</td>\n      <td>5</td>\n      <td>0</td>\n      <td>{'Ambience': '{'romantic': False, 'intimate': ...</td>\n      <td>Japanese, Sushi Bars, Restaurants</td>\n      <td>{'Monday': '11:0-22:0', 'Tuesday': '11:0-22:0'...</td>\n    </tr>\n    <tr>\n      <th>209389</th>\n      <td>PotiAhtDMYMNsJCzV0oLAw</td>\n      <td>Walmart</td>\n      <td>3240 Wilkinson Blvd</td>\n      <td>Charlotte</td>\n      <td>NC</td>\n      <td>28208</td>\n      <td>35.226307</td>\n      <td>-80.893539</td>\n      <td>2.0</td>\n      <td>13</td>\n      <td>0</td>\n      <td>{'RestaurantsPriceRange2': '1', 'BusinessParki...</td>\n      <td>Department Stores, Food, Mobile Phones, Fashio...</td>\n      <td>None</td>\n    </tr>\n    <tr>\n      <th>209390</th>\n      <td>SYa2j1boLF8DcGVOYfHPcA</td>\n      <td>Five Guys</td>\n      <td>7014-590 E Camelback Rd</td>\n      <td>Scottsdale</td>\n      <td>AZ</td>\n      <td>85251</td>\n      <td>33.504062</td>\n      <td>-111.929431</td>\n      <td>3.5</td>\n      <td>97</td>\n      <td>1</td>\n      <td>{'BusinessAcceptsCreditCards': 'True', 'Restau...</td>\n      <td>American (New), Food, Burgers, Restaurants, Fa...</td>\n      <td>{'Monday': '11:0-22:0', 'Tuesday': '11:0-22:0'...</td>\n    </tr>\n    <tr>\n      <th>209391</th>\n      <td>RSSIsgO00OuWQTRoITacpA</td>\n      <td>Indian Trail Dog Training</td>\n      <td></td>\n      <td>Indian Trail</td>\n      <td>NC</td>\n      <td>28079</td>\n      <td>35.101965</td>\n      <td>-80.599385</td>\n      <td>5.0</td>\n      <td>3</td>\n      <td>1</td>\n      <td>None</td>\n      <td>Pet Services, Pet Training, Pets</td>\n      <td>{'Monday': '0:0-0:0', 'Tuesday': '7:0-19:0', '...</td>\n    </tr>\n    <tr>\n      <th>209392</th>\n      <td>tOcYmewXFhQeZh3V42ymwg</td>\n      <td>Kudlow Ye</td>\n      <td>21 St Clair Avenue E, Suite 401</td>\n      <td>Toronto</td>\n      <td>ON</td>\n      <td>M4T 1L9</td>\n      <td>43.688214</td>\n      <td>-79.392756</td>\n      <td>5.0</td>\n      <td>3</td>\n      <td>1</td>\n      <td>None</td>\n      <td>Tax Services, Professional Services, Accountan...</td>\n      <td>{'Monday': '9:0-18:0', 'Tuesday': '9:0-18:0', ...</td>\n    </tr>\n  </tbody>\n</table>\n<p>209393 rows × 14 columns</p>\n</div>"
     },
     "metadata": {},
     "execution_count": 18
    }
   ],
   "source": [
    "file"
   ]
  },
  {
   "cell_type": "code",
   "execution_count": 10,
   "metadata": {},
   "outputs": [
    {
     "output_type": "error",
     "ename": "NameError",
     "evalue": "name 'mongo_user' is not defined",
     "traceback": [
      "\u001b[0;31m---------------------------------------------------------------------------\u001b[0m",
      "\u001b[0;31mNameError\u001b[0m                                 Traceback (most recent call last)",
      "\u001b[0;32m<ipython-input-10-60f5c4a76c0e>\u001b[0m in \u001b[0;36m<module>\u001b[0;34m\u001b[0m\n\u001b[0;32m----> 1\u001b[0;31m \u001b[0mconn\u001b[0m \u001b[0;34m=\u001b[0m \u001b[0;34m(\u001b[0m\u001b[0;34mf'mongodb+srv://{mongo_user}:{mongo_pass}@{mongo_clusteruri}'\u001b[0m\u001b[0;34m)\u001b[0m\u001b[0;34m\u001b[0m\u001b[0;34m\u001b[0m\u001b[0m\n\u001b[0m\u001b[1;32m      2\u001b[0m \u001b[0mclient\u001b[0m \u001b[0;34m=\u001b[0m \u001b[0mpymongo\u001b[0m\u001b[0;34m.\u001b[0m\u001b[0mMongoClient\u001b[0m\u001b[0;34m(\u001b[0m\u001b[0mconn\u001b[0m\u001b[0;34m)\u001b[0m\u001b[0;34m\u001b[0m\u001b[0;34m\u001b[0m\u001b[0m\n\u001b[1;32m      3\u001b[0m \u001b[0;34m\u001b[0m\u001b[0m\n\u001b[1;32m      4\u001b[0m \u001b[0mdb\u001b[0m \u001b[0;34m=\u001b[0m \u001b[0mclient\u001b[0m\u001b[0;34m.\u001b[0m\u001b[0myelp\u001b[0m\u001b[0;34m\u001b[0m\u001b[0;34m\u001b[0m\u001b[0m\n",
      "\u001b[0;31mNameError\u001b[0m: name 'mongo_user' is not defined"
     ]
    }
   ],
   "source": [
    "\n",
    "\n",
    "db = client.yelp"
   ]
  },
  {
   "cell_type": "code",
   "execution_count": 19,
   "metadata": {},
   "outputs": [],
   "source": [
    "file = file[file['is_open']==1]"
   ]
  },
  {
   "cell_type": "code",
   "execution_count": 20,
   "metadata": {},
   "outputs": [
    {
     "output_type": "execute_result",
     "data": {
      "text/plain": "                   business_id                         name  \\\n0       f9NumwFMBDn751xgFiRbNA     The Range At Lake Norman   \n1       Yzvjg0SayhoZgCljUJRF9Q            Carlos Santo, NMD   \n2       XNoUzKckATkOD1hP6vghZg                      Felinus   \n4       51M2Kk903DFYI6gnB5I6SQ      USE MY GUY SERVICES LLC   \n5       cKyLV5oWZJ2NudWgqs8VZw  Oasis Auto Center - Gilbert   \n...                        ...                          ...   \n209386  JjcJVqhZXhP4tvOhg3fnag            Water Heater Pros   \n209387  KdGtDThLduB8Vf-z-qKEFA                         Aldo   \n209390  SYa2j1boLF8DcGVOYfHPcA                    Five Guys   \n209391  RSSIsgO00OuWQTRoITacpA    Indian Trail Dog Training   \n209392  tOcYmewXFhQeZh3V42ymwg                    Kudlow Ye   \n\n                                address          city state postal_code  \\\n0                       10913 Bailey Rd     Cornelius    NC       28031   \n1             8880 E Via Linda, Ste 107    Scottsdale    AZ       85258   \n2                 3554 Rue Notre-Dame O      Montreal    QC     H4C 1P4   \n4                    4827 E Downing Cir          Mesa    AZ       85205   \n5             1720 W Elliot Rd, Ste 105       Gilbert    AZ       85233   \n...                                 ...           ...   ...         ...   \n209386                                      Las Vegas    NV       89120   \n209387              6455 Macleod Trl SW       Calgary    AB         T2H   \n209390          7014-590 E Camelback Rd    Scottsdale    AZ       85251   \n209391                                   Indian Trail    NC       28079   \n209392  21 St Clair Avenue E, Suite 401       Toronto    ON     M4T 1L9   \n\n         latitude   longitude  stars  review_count  is_open  \\\n0       35.462724  -80.852612    3.5            36        1   \n1       33.569404 -111.890264    5.0             4        1   \n2       45.479984  -73.580070    5.0             5        1   \n4       33.428065 -111.726648    4.5            26        1   \n5       33.350399 -111.827142    4.5            38        1   \n...           ...         ...    ...           ...      ...   \n209386  36.076977 -115.244794    5.0           217        1   \n209387  50.997571 -114.073369    3.5             3        1   \n209390  33.504062 -111.929431    3.5            97        1   \n209391  35.101965  -80.599385    5.0             3        1   \n209392  43.688214  -79.392756    5.0             3        1   \n\n                                               attributes  \\\n0       {'BusinessAcceptsCreditCards': 'True', 'BikePa...   \n1       {'GoodForKids': 'True', 'ByAppointmentOnly': '...   \n2                                                    None   \n4       {'BusinessAcceptsCreditCards': 'True', 'ByAppo...   \n5                  {'BusinessAcceptsCreditCards': 'True'}   \n...                                                   ...   \n209386  {'BusinessAcceptsCreditCards': 'True', 'ByAppo...   \n209387                                               None   \n209390  {'BusinessAcceptsCreditCards': 'True', 'Restau...   \n209391                                               None   \n209392                                               None   \n\n                                               categories  \\\n0       Active Life, Gun/Rifle Ranges, Guns & Ammo, Sh...   \n1       Health & Medical, Fitness & Instruction, Yoga,...   \n2                        Pets, Pet Services, Pet Groomers   \n4       Home Services, Plumbing, Electricians, Handyma...   \n5       Auto Repair, Automotive, Oil Change Stations, ...   \n...                                                   ...   \n209386  Contractors, Local Services, Appliances & Repa...   \n209387        Shopping, Fashion, Accessories, Shoe Stores   \n209390  American (New), Food, Burgers, Restaurants, Fa...   \n209391                   Pet Services, Pet Training, Pets   \n209392  Tax Services, Professional Services, Accountan...   \n\n                                                    hours  \n0       {'Monday': '10:0-18:0', 'Tuesday': '11:0-20:0'...  \n1                                                    None  \n2                                                    None  \n4       {'Monday': '0:0-0:0', 'Tuesday': '9:0-16:0', '...  \n5       {'Monday': '7:0-18:0', 'Tuesday': '7:0-18:0', ...  \n...                                                   ...  \n209386  {'Monday': '0:0-0:0', 'Tuesday': '8:0-17:0', '...  \n209387                                               None  \n209390  {'Monday': '11:0-22:0', 'Tuesday': '11:0-22:0'...  \n209391  {'Monday': '0:0-0:0', 'Tuesday': '7:0-19:0', '...  \n209392  {'Monday': '9:0-18:0', 'Tuesday': '9:0-18:0', ...  \n\n[168903 rows x 14 columns]",
      "text/html": "<div>\n<style scoped>\n    .dataframe tbody tr th:only-of-type {\n        vertical-align: middle;\n    }\n\n    .dataframe tbody tr th {\n        vertical-align: top;\n    }\n\n    .dataframe thead th {\n        text-align: right;\n    }\n</style>\n<table border=\"1\" class=\"dataframe\">\n  <thead>\n    <tr style=\"text-align: right;\">\n      <th></th>\n      <th>business_id</th>\n      <th>name</th>\n      <th>address</th>\n      <th>city</th>\n      <th>state</th>\n      <th>postal_code</th>\n      <th>latitude</th>\n      <th>longitude</th>\n      <th>stars</th>\n      <th>review_count</th>\n      <th>is_open</th>\n      <th>attributes</th>\n      <th>categories</th>\n      <th>hours</th>\n    </tr>\n  </thead>\n  <tbody>\n    <tr>\n      <th>0</th>\n      <td>f9NumwFMBDn751xgFiRbNA</td>\n      <td>The Range At Lake Norman</td>\n      <td>10913 Bailey Rd</td>\n      <td>Cornelius</td>\n      <td>NC</td>\n      <td>28031</td>\n      <td>35.462724</td>\n      <td>-80.852612</td>\n      <td>3.5</td>\n      <td>36</td>\n      <td>1</td>\n      <td>{'BusinessAcceptsCreditCards': 'True', 'BikePa...</td>\n      <td>Active Life, Gun/Rifle Ranges, Guns &amp; Ammo, Sh...</td>\n      <td>{'Monday': '10:0-18:0', 'Tuesday': '11:0-20:0'...</td>\n    </tr>\n    <tr>\n      <th>1</th>\n      <td>Yzvjg0SayhoZgCljUJRF9Q</td>\n      <td>Carlos Santo, NMD</td>\n      <td>8880 E Via Linda, Ste 107</td>\n      <td>Scottsdale</td>\n      <td>AZ</td>\n      <td>85258</td>\n      <td>33.569404</td>\n      <td>-111.890264</td>\n      <td>5.0</td>\n      <td>4</td>\n      <td>1</td>\n      <td>{'GoodForKids': 'True', 'ByAppointmentOnly': '...</td>\n      <td>Health &amp; Medical, Fitness &amp; Instruction, Yoga,...</td>\n      <td>None</td>\n    </tr>\n    <tr>\n      <th>2</th>\n      <td>XNoUzKckATkOD1hP6vghZg</td>\n      <td>Felinus</td>\n      <td>3554 Rue Notre-Dame O</td>\n      <td>Montreal</td>\n      <td>QC</td>\n      <td>H4C 1P4</td>\n      <td>45.479984</td>\n      <td>-73.580070</td>\n      <td>5.0</td>\n      <td>5</td>\n      <td>1</td>\n      <td>None</td>\n      <td>Pets, Pet Services, Pet Groomers</td>\n      <td>None</td>\n    </tr>\n    <tr>\n      <th>4</th>\n      <td>51M2Kk903DFYI6gnB5I6SQ</td>\n      <td>USE MY GUY SERVICES LLC</td>\n      <td>4827 E Downing Cir</td>\n      <td>Mesa</td>\n      <td>AZ</td>\n      <td>85205</td>\n      <td>33.428065</td>\n      <td>-111.726648</td>\n      <td>4.5</td>\n      <td>26</td>\n      <td>1</td>\n      <td>{'BusinessAcceptsCreditCards': 'True', 'ByAppo...</td>\n      <td>Home Services, Plumbing, Electricians, Handyma...</td>\n      <td>{'Monday': '0:0-0:0', 'Tuesday': '9:0-16:0', '...</td>\n    </tr>\n    <tr>\n      <th>5</th>\n      <td>cKyLV5oWZJ2NudWgqs8VZw</td>\n      <td>Oasis Auto Center - Gilbert</td>\n      <td>1720 W Elliot Rd, Ste 105</td>\n      <td>Gilbert</td>\n      <td>AZ</td>\n      <td>85233</td>\n      <td>33.350399</td>\n      <td>-111.827142</td>\n      <td>4.5</td>\n      <td>38</td>\n      <td>1</td>\n      <td>{'BusinessAcceptsCreditCards': 'True'}</td>\n      <td>Auto Repair, Automotive, Oil Change Stations, ...</td>\n      <td>{'Monday': '7:0-18:0', 'Tuesday': '7:0-18:0', ...</td>\n    </tr>\n    <tr>\n      <th>...</th>\n      <td>...</td>\n      <td>...</td>\n      <td>...</td>\n      <td>...</td>\n      <td>...</td>\n      <td>...</td>\n      <td>...</td>\n      <td>...</td>\n      <td>...</td>\n      <td>...</td>\n      <td>...</td>\n      <td>...</td>\n      <td>...</td>\n      <td>...</td>\n    </tr>\n    <tr>\n      <th>209386</th>\n      <td>JjcJVqhZXhP4tvOhg3fnag</td>\n      <td>Water Heater Pros</td>\n      <td></td>\n      <td>Las Vegas</td>\n      <td>NV</td>\n      <td>89120</td>\n      <td>36.076977</td>\n      <td>-115.244794</td>\n      <td>5.0</td>\n      <td>217</td>\n      <td>1</td>\n      <td>{'BusinessAcceptsCreditCards': 'True', 'ByAppo...</td>\n      <td>Contractors, Local Services, Appliances &amp; Repa...</td>\n      <td>{'Monday': '0:0-0:0', 'Tuesday': '8:0-17:0', '...</td>\n    </tr>\n    <tr>\n      <th>209387</th>\n      <td>KdGtDThLduB8Vf-z-qKEFA</td>\n      <td>Aldo</td>\n      <td>6455 Macleod Trl SW</td>\n      <td>Calgary</td>\n      <td>AB</td>\n      <td>T2H</td>\n      <td>50.997571</td>\n      <td>-114.073369</td>\n      <td>3.5</td>\n      <td>3</td>\n      <td>1</td>\n      <td>None</td>\n      <td>Shopping, Fashion, Accessories, Shoe Stores</td>\n      <td>None</td>\n    </tr>\n    <tr>\n      <th>209390</th>\n      <td>SYa2j1boLF8DcGVOYfHPcA</td>\n      <td>Five Guys</td>\n      <td>7014-590 E Camelback Rd</td>\n      <td>Scottsdale</td>\n      <td>AZ</td>\n      <td>85251</td>\n      <td>33.504062</td>\n      <td>-111.929431</td>\n      <td>3.5</td>\n      <td>97</td>\n      <td>1</td>\n      <td>{'BusinessAcceptsCreditCards': 'True', 'Restau...</td>\n      <td>American (New), Food, Burgers, Restaurants, Fa...</td>\n      <td>{'Monday': '11:0-22:0', 'Tuesday': '11:0-22:0'...</td>\n    </tr>\n    <tr>\n      <th>209391</th>\n      <td>RSSIsgO00OuWQTRoITacpA</td>\n      <td>Indian Trail Dog Training</td>\n      <td></td>\n      <td>Indian Trail</td>\n      <td>NC</td>\n      <td>28079</td>\n      <td>35.101965</td>\n      <td>-80.599385</td>\n      <td>5.0</td>\n      <td>3</td>\n      <td>1</td>\n      <td>None</td>\n      <td>Pet Services, Pet Training, Pets</td>\n      <td>{'Monday': '0:0-0:0', 'Tuesday': '7:0-19:0', '...</td>\n    </tr>\n    <tr>\n      <th>209392</th>\n      <td>tOcYmewXFhQeZh3V42ymwg</td>\n      <td>Kudlow Ye</td>\n      <td>21 St Clair Avenue E, Suite 401</td>\n      <td>Toronto</td>\n      <td>ON</td>\n      <td>M4T 1L9</td>\n      <td>43.688214</td>\n      <td>-79.392756</td>\n      <td>5.0</td>\n      <td>3</td>\n      <td>1</td>\n      <td>None</td>\n      <td>Tax Services, Professional Services, Accountan...</td>\n      <td>{'Monday': '9:0-18:0', 'Tuesday': '9:0-18:0', ...</td>\n    </tr>\n  </tbody>\n</table>\n<p>168903 rows × 14 columns</p>\n</div>"
     },
     "metadata": {},
     "execution_count": 20
    }
   ],
   "source": [
    "file"
   ]
  },
  {
   "cell_type": "code",
   "execution_count": 37,
   "metadata": {},
   "outputs": [
    {
     "output_type": "execute_result",
     "data": {
      "text/plain": "                   business_id                                     name  \\\n6       oiAlXZPIFm2nBCt0DHLu_Q                     Green World Cleaners   \n51      5XMKDYmMGSKkCkrYoELxzg  Annette Thomas Hair Colorist Specialist   \n62      7uYJJpwORUbCirC1mz8n9Q                         Gallo Law Office   \n66      bierVTEi44nJtFVQ01N-yQ                 Lacoste Outlet Las Vegas   \n77      OLciBerMDmD_WYzfYbmkqA               The Lounge at Saxe Theater   \n...                        ...                                      ...   \n209368  KDNQREbY6FrASDbHyUDCHA                       Furniture For Life   \n209371  4EwAkiirgMvFleD3B9HrYg                           Ignite Funding   \n209375  2IQfgwNt1_DVrFR_86_VZw                Britt Pierson Photography   \n209382  fNil19SUfPAPnLQrYnFrGQ            Cheyenne West Animal Hospital   \n209386  JjcJVqhZXhP4tvOhg3fnag                        Water Heater Pros   \n\n                                              address       city state  \\\n6                        6870 S Rainbow Blvd, Ste 117  Las Vegas    NV   \n51      101 S Rainbow Blvd, Ste 23, Darby's Hairitage  Las Vegas    NV   \n62                           818 S Casino Center Blvd  Las Vegas    NV   \n66                           855 S Grand Central Pkwy  Las Vegas    NV   \n77                     3663 Las Vegas Blvd S, Ste 454  Las Vegas    NV   \n...                                               ...        ...   ...   \n209368                        3883 Spring Mountain Rd  Las Vegas    NV   \n209371                      2140 E Pebble Rd, Ste 160  Las Vegas    NV   \n209375                           S Maryland Pkwy 2620  Las Vegas    NV   \n209382                              3650 N Buffalo Dr  Las Vegas    NV   \n209386                                                 Las Vegas    NV   \n\n       postal_code   latitude   longitude  stars  review_count  is_open  \\\n6            89118  36.063977 -115.241463    3.5            81        1   \n51           89107  36.172534 -115.244762    5.0             7        1   \n62           89101  36.161979 -115.150088    2.5             3        1   \n66           89106  36.163011 -115.158314    3.5            11        1   \n77           89109  36.110799 -115.172507    3.5             4        1   \n...            ...        ...         ...    ...           ...      ...   \n209368       89102  36.126035 -115.191649    5.0            21        1   \n209371       89123  36.028342 -115.121935    4.0            13        1   \n209375       89109  36.142128 -115.136924    5.0            10        1   \n209382       89129  36.226339 -115.259958    4.5           124        1   \n209386       89120  36.076977 -115.244794    5.0           217        1   \n\n                                               attributes  \\\n6       {'BusinessParking': '{'garage': False, 'street...   \n51      {'GoodForKids': 'True', 'BusinessParking': '{'...   \n62                                                   None   \n66      {'BikeParking': 'False', 'RestaurantsPriceRang...   \n77      {'BusinessParking': '{'garage': True, 'street'...   \n...                                                   ...   \n209368  {'BusinessAcceptsCreditCards': 'True', 'Busine...   \n209371                                               None   \n209375  {'BusinessAcceptsCreditCards': 'True', 'WiFi':...   \n209382                      {'ByAppointmentOnly': 'True'}   \n209386  {'BusinessAcceptsCreditCards': 'True', 'ByAppo...   \n\n                                               categories  \\\n6       Dry Cleaning & Laundry, Local Services, Laundr...   \n51              Hair Stylists, Hair Salons, Beauty & Spas   \n62      Lawyers, Professional Services, DUI Law, Crimi...   \n66      Accessories, Shopping, Fashion, Men's Clothing...   \n77      Nightlife, Arts & Entertainment, Bars, Lounges...   \n...                                                   ...   \n209368  Health & Medical, Home & Garden, Shopping, Fur...   \n209371  Commercial Real Estate, Mortgage Brokers, Home...   \n209375  Session Photography, Event Photography, Photog...   \n209382     Pets, Pet Sitting, Veterinarians, Pet Services   \n209386  Contractors, Local Services, Appliances & Repa...   \n\n                                                    hours  \n6       {'Monday': '7:0-19:0', 'Tuesday': '7:0-19:0', ...  \n51                                                   None  \n62      {'Monday': '0:0-0:0', 'Tuesday': '0:0-0:0', 'W...  \n66      {'Monday': '9:0-21:0', 'Tuesday': '9:0-21:0', ...  \n77      {'Monday': '14:0-23:30', 'Tuesday': '14:0-23:3...  \n...                                                   ...  \n209368  {'Monday': '0:0-0:0', 'Tuesday': '11:0-20:0', ...  \n209371  {'Monday': '8:0-17:0', 'Tuesday': '8:0-17:0', ...  \n209375  {'Monday': '8:0-17:0', 'Tuesday': '8:0-17:0', ...  \n209382  {'Monday': '8:0-18:0', 'Tuesday': '8:0-18:0', ...  \n209386  {'Monday': '0:0-0:0', 'Tuesday': '8:0-17:0', '...  \n\n[25043 rows x 14 columns]",
      "text/html": "<div>\n<style scoped>\n    .dataframe tbody tr th:only-of-type {\n        vertical-align: middle;\n    }\n\n    .dataframe tbody tr th {\n        vertical-align: top;\n    }\n\n    .dataframe thead th {\n        text-align: right;\n    }\n</style>\n<table border=\"1\" class=\"dataframe\">\n  <thead>\n    <tr style=\"text-align: right;\">\n      <th></th>\n      <th>business_id</th>\n      <th>name</th>\n      <th>address</th>\n      <th>city</th>\n      <th>state</th>\n      <th>postal_code</th>\n      <th>latitude</th>\n      <th>longitude</th>\n      <th>stars</th>\n      <th>review_count</th>\n      <th>is_open</th>\n      <th>attributes</th>\n      <th>categories</th>\n      <th>hours</th>\n    </tr>\n  </thead>\n  <tbody>\n    <tr>\n      <th>6</th>\n      <td>oiAlXZPIFm2nBCt0DHLu_Q</td>\n      <td>Green World Cleaners</td>\n      <td>6870 S Rainbow Blvd, Ste 117</td>\n      <td>Las Vegas</td>\n      <td>NV</td>\n      <td>89118</td>\n      <td>36.063977</td>\n      <td>-115.241463</td>\n      <td>3.5</td>\n      <td>81</td>\n      <td>1</td>\n      <td>{'BusinessParking': '{'garage': False, 'street...</td>\n      <td>Dry Cleaning &amp; Laundry, Local Services, Laundr...</td>\n      <td>{'Monday': '7:0-19:0', 'Tuesday': '7:0-19:0', ...</td>\n    </tr>\n    <tr>\n      <th>51</th>\n      <td>5XMKDYmMGSKkCkrYoELxzg</td>\n      <td>Annette Thomas Hair Colorist Specialist</td>\n      <td>101 S Rainbow Blvd, Ste 23, Darby's Hairitage</td>\n      <td>Las Vegas</td>\n      <td>NV</td>\n      <td>89107</td>\n      <td>36.172534</td>\n      <td>-115.244762</td>\n      <td>5.0</td>\n      <td>7</td>\n      <td>1</td>\n      <td>{'GoodForKids': 'True', 'BusinessParking': '{'...</td>\n      <td>Hair Stylists, Hair Salons, Beauty &amp; Spas</td>\n      <td>None</td>\n    </tr>\n    <tr>\n      <th>62</th>\n      <td>7uYJJpwORUbCirC1mz8n9Q</td>\n      <td>Gallo Law Office</td>\n      <td>818 S Casino Center Blvd</td>\n      <td>Las Vegas</td>\n      <td>NV</td>\n      <td>89101</td>\n      <td>36.161979</td>\n      <td>-115.150088</td>\n      <td>2.5</td>\n      <td>3</td>\n      <td>1</td>\n      <td>None</td>\n      <td>Lawyers, Professional Services, DUI Law, Crimi...</td>\n      <td>{'Monday': '0:0-0:0', 'Tuesday': '0:0-0:0', 'W...</td>\n    </tr>\n    <tr>\n      <th>66</th>\n      <td>bierVTEi44nJtFVQ01N-yQ</td>\n      <td>Lacoste Outlet Las Vegas</td>\n      <td>855 S Grand Central Pkwy</td>\n      <td>Las Vegas</td>\n      <td>NV</td>\n      <td>89106</td>\n      <td>36.163011</td>\n      <td>-115.158314</td>\n      <td>3.5</td>\n      <td>11</td>\n      <td>1</td>\n      <td>{'BikeParking': 'False', 'RestaurantsPriceRang...</td>\n      <td>Accessories, Shopping, Fashion, Men's Clothing...</td>\n      <td>{'Monday': '9:0-21:0', 'Tuesday': '9:0-21:0', ...</td>\n    </tr>\n    <tr>\n      <th>77</th>\n      <td>OLciBerMDmD_WYzfYbmkqA</td>\n      <td>The Lounge at Saxe Theater</td>\n      <td>3663 Las Vegas Blvd S, Ste 454</td>\n      <td>Las Vegas</td>\n      <td>NV</td>\n      <td>89109</td>\n      <td>36.110799</td>\n      <td>-115.172507</td>\n      <td>3.5</td>\n      <td>4</td>\n      <td>1</td>\n      <td>{'BusinessParking': '{'garage': True, 'street'...</td>\n      <td>Nightlife, Arts &amp; Entertainment, Bars, Lounges...</td>\n      <td>{'Monday': '14:0-23:30', 'Tuesday': '14:0-23:3...</td>\n    </tr>\n    <tr>\n      <th>...</th>\n      <td>...</td>\n      <td>...</td>\n      <td>...</td>\n      <td>...</td>\n      <td>...</td>\n      <td>...</td>\n      <td>...</td>\n      <td>...</td>\n      <td>...</td>\n      <td>...</td>\n      <td>...</td>\n      <td>...</td>\n      <td>...</td>\n      <td>...</td>\n    </tr>\n    <tr>\n      <th>209368</th>\n      <td>KDNQREbY6FrASDbHyUDCHA</td>\n      <td>Furniture For Life</td>\n      <td>3883 Spring Mountain Rd</td>\n      <td>Las Vegas</td>\n      <td>NV</td>\n      <td>89102</td>\n      <td>36.126035</td>\n      <td>-115.191649</td>\n      <td>5.0</td>\n      <td>21</td>\n      <td>1</td>\n      <td>{'BusinessAcceptsCreditCards': 'True', 'Busine...</td>\n      <td>Health &amp; Medical, Home &amp; Garden, Shopping, Fur...</td>\n      <td>{'Monday': '0:0-0:0', 'Tuesday': '11:0-20:0', ...</td>\n    </tr>\n    <tr>\n      <th>209371</th>\n      <td>4EwAkiirgMvFleD3B9HrYg</td>\n      <td>Ignite Funding</td>\n      <td>2140 E Pebble Rd, Ste 160</td>\n      <td>Las Vegas</td>\n      <td>NV</td>\n      <td>89123</td>\n      <td>36.028342</td>\n      <td>-115.121935</td>\n      <td>4.0</td>\n      <td>13</td>\n      <td>1</td>\n      <td>None</td>\n      <td>Commercial Real Estate, Mortgage Brokers, Home...</td>\n      <td>{'Monday': '8:0-17:0', 'Tuesday': '8:0-17:0', ...</td>\n    </tr>\n    <tr>\n      <th>209375</th>\n      <td>2IQfgwNt1_DVrFR_86_VZw</td>\n      <td>Britt Pierson Photography</td>\n      <td>S Maryland Pkwy 2620</td>\n      <td>Las Vegas</td>\n      <td>NV</td>\n      <td>89109</td>\n      <td>36.142128</td>\n      <td>-115.136924</td>\n      <td>5.0</td>\n      <td>10</td>\n      <td>1</td>\n      <td>{'BusinessAcceptsCreditCards': 'True', 'WiFi':...</td>\n      <td>Session Photography, Event Photography, Photog...</td>\n      <td>{'Monday': '8:0-17:0', 'Tuesday': '8:0-17:0', ...</td>\n    </tr>\n    <tr>\n      <th>209382</th>\n      <td>fNil19SUfPAPnLQrYnFrGQ</td>\n      <td>Cheyenne West Animal Hospital</td>\n      <td>3650 N Buffalo Dr</td>\n      <td>Las Vegas</td>\n      <td>NV</td>\n      <td>89129</td>\n      <td>36.226339</td>\n      <td>-115.259958</td>\n      <td>4.5</td>\n      <td>124</td>\n      <td>1</td>\n      <td>{'ByAppointmentOnly': 'True'}</td>\n      <td>Pets, Pet Sitting, Veterinarians, Pet Services</td>\n      <td>{'Monday': '8:0-18:0', 'Tuesday': '8:0-18:0', ...</td>\n    </tr>\n    <tr>\n      <th>209386</th>\n      <td>JjcJVqhZXhP4tvOhg3fnag</td>\n      <td>Water Heater Pros</td>\n      <td></td>\n      <td>Las Vegas</td>\n      <td>NV</td>\n      <td>89120</td>\n      <td>36.076977</td>\n      <td>-115.244794</td>\n      <td>5.0</td>\n      <td>217</td>\n      <td>1</td>\n      <td>{'BusinessAcceptsCreditCards': 'True', 'ByAppo...</td>\n      <td>Contractors, Local Services, Appliances &amp; Repa...</td>\n      <td>{'Monday': '0:0-0:0', 'Tuesday': '8:0-17:0', '...</td>\n    </tr>\n  </tbody>\n</table>\n<p>25043 rows × 14 columns</p>\n</div>"
     },
     "metadata": {},
     "execution_count": 37
    }
   ],
   "source": [
    "yelp_vegas = file[file['city']=='Las Vegas']\n",
    "yelp_vegas"
   ]
  },
  {
   "cell_type": "code",
   "execution_count": null,
   "metadata": {},
   "outputs": [],
   "source": [
    "city = df_b[df_b['categories'].str.contains(\n",
    "              'RV Repair|RV Dealers|RV Rental|RV Parks|Campgrounds',\n",
    "              case=False, na=False)]"
   ]
  },
  {
   "cell_type": "code",
   "execution_count": 9,
   "metadata": {
    "tags": []
   },
   "outputs": [
    {
     "output_type": "stream",
     "name": "stdout",
     "text": "1.0.3\n"
    }
   ],
   "source": [
    "# Check the version \n",
    "print(pd.__version__)"
   ]
  },
  {
   "cell_type": "code",
   "execution_count": 35,
   "metadata": {},
   "outputs": [],
   "source": [
    "all_business = yelp_vegas.assign(categories = yelp_vegas.categories\n",
    "                         .str.split(', ')).explode('categories')"
   ]
  },
  {
   "cell_type": "code",
   "execution_count": 36,
   "metadata": {},
   "outputs": [
    {
     "output_type": "execute_result",
     "data": {
      "text/plain": "                   business_id                                     name  \\\n6       oiAlXZPIFm2nBCt0DHLu_Q                     Green World Cleaners   \n6       oiAlXZPIFm2nBCt0DHLu_Q                     Green World Cleaners   \n6       oiAlXZPIFm2nBCt0DHLu_Q                     Green World Cleaners   \n51      5XMKDYmMGSKkCkrYoELxzg  Annette Thomas Hair Colorist Specialist   \n51      5XMKDYmMGSKkCkrYoELxzg  Annette Thomas Hair Colorist Specialist   \n...                        ...                                      ...   \n209386  JjcJVqhZXhP4tvOhg3fnag                        Water Heater Pros   \n209386  JjcJVqhZXhP4tvOhg3fnag                        Water Heater Pros   \n209386  JjcJVqhZXhP4tvOhg3fnag                        Water Heater Pros   \n209386  JjcJVqhZXhP4tvOhg3fnag                        Water Heater Pros   \n209386  JjcJVqhZXhP4tvOhg3fnag                        Water Heater Pros   \n\n                                              address       city state  \\\n6                        6870 S Rainbow Blvd, Ste 117  Las Vegas    NV   \n6                        6870 S Rainbow Blvd, Ste 117  Las Vegas    NV   \n6                        6870 S Rainbow Blvd, Ste 117  Las Vegas    NV   \n51      101 S Rainbow Blvd, Ste 23, Darby's Hairitage  Las Vegas    NV   \n51      101 S Rainbow Blvd, Ste 23, Darby's Hairitage  Las Vegas    NV   \n...                                               ...        ...   ...   \n209386                                                 Las Vegas    NV   \n209386                                                 Las Vegas    NV   \n209386                                                 Las Vegas    NV   \n209386                                                 Las Vegas    NV   \n209386                                                 Las Vegas    NV   \n\n       postal_code   latitude   longitude  stars  review_count  is_open  \\\n6            89118  36.063977 -115.241463    3.5            81        1   \n6            89118  36.063977 -115.241463    3.5            81        1   \n6            89118  36.063977 -115.241463    3.5            81        1   \n51           89107  36.172534 -115.244762    5.0             7        1   \n51           89107  36.172534 -115.244762    5.0             7        1   \n...            ...        ...         ...    ...           ...      ...   \n209386       89120  36.076977 -115.244794    5.0           217        1   \n209386       89120  36.076977 -115.244794    5.0           217        1   \n209386       89120  36.076977 -115.244794    5.0           217        1   \n209386       89120  36.076977 -115.244794    5.0           217        1   \n209386       89120  36.076977 -115.244794    5.0           217        1   \n\n                                               attributes  \\\n6       {'BusinessParking': '{'garage': False, 'street...   \n6       {'BusinessParking': '{'garage': False, 'street...   \n6       {'BusinessParking': '{'garage': False, 'street...   \n51      {'GoodForKids': 'True', 'BusinessParking': '{'...   \n51      {'GoodForKids': 'True', 'BusinessParking': '{'...   \n...                                                   ...   \n209386  {'BusinessAcceptsCreditCards': 'True', 'ByAppo...   \n209386  {'BusinessAcceptsCreditCards': 'True', 'ByAppo...   \n209386  {'BusinessAcceptsCreditCards': 'True', 'ByAppo...   \n209386  {'BusinessAcceptsCreditCards': 'True', 'ByAppo...   \n209386  {'BusinessAcceptsCreditCards': 'True', 'ByAppo...   \n\n                              categories  \\\n6                 Dry Cleaning & Laundry   \n6                         Local Services   \n6                       Laundry Services   \n51                         Hair Stylists   \n51                           Hair Salons   \n...                                  ...   \n209386               Appliances & Repair   \n209386   Heating & Air Conditioning/HVAC   \n209386  Water Heater Installation/Repair   \n209386                          Plumbing   \n209386                     Home Services   \n\n                                                    hours  \n6       {'Monday': '7:0-19:0', 'Tuesday': '7:0-19:0', ...  \n6       {'Monday': '7:0-19:0', 'Tuesday': '7:0-19:0', ...  \n6       {'Monday': '7:0-19:0', 'Tuesday': '7:0-19:0', ...  \n51                                                   None  \n51                                                   None  \n...                                                   ...  \n209386  {'Monday': '0:0-0:0', 'Tuesday': '8:0-17:0', '...  \n209386  {'Monday': '0:0-0:0', 'Tuesday': '8:0-17:0', '...  \n209386  {'Monday': '0:0-0:0', 'Tuesday': '8:0-17:0', '...  \n209386  {'Monday': '0:0-0:0', 'Tuesday': '8:0-17:0', '...  \n209386  {'Monday': '0:0-0:0', 'Tuesday': '8:0-17:0', '...  \n\n[110353 rows x 14 columns]",
      "text/html": "<div>\n<style scoped>\n    .dataframe tbody tr th:only-of-type {\n        vertical-align: middle;\n    }\n\n    .dataframe tbody tr th {\n        vertical-align: top;\n    }\n\n    .dataframe thead th {\n        text-align: right;\n    }\n</style>\n<table border=\"1\" class=\"dataframe\">\n  <thead>\n    <tr style=\"text-align: right;\">\n      <th></th>\n      <th>business_id</th>\n      <th>name</th>\n      <th>address</th>\n      <th>city</th>\n      <th>state</th>\n      <th>postal_code</th>\n      <th>latitude</th>\n      <th>longitude</th>\n      <th>stars</th>\n      <th>review_count</th>\n      <th>is_open</th>\n      <th>attributes</th>\n      <th>categories</th>\n      <th>hours</th>\n    </tr>\n  </thead>\n  <tbody>\n    <tr>\n      <th>6</th>\n      <td>oiAlXZPIFm2nBCt0DHLu_Q</td>\n      <td>Green World Cleaners</td>\n      <td>6870 S Rainbow Blvd, Ste 117</td>\n      <td>Las Vegas</td>\n      <td>NV</td>\n      <td>89118</td>\n      <td>36.063977</td>\n      <td>-115.241463</td>\n      <td>3.5</td>\n      <td>81</td>\n      <td>1</td>\n      <td>{'BusinessParking': '{'garage': False, 'street...</td>\n      <td>Dry Cleaning &amp; Laundry</td>\n      <td>{'Monday': '7:0-19:0', 'Tuesday': '7:0-19:0', ...</td>\n    </tr>\n    <tr>\n      <th>6</th>\n      <td>oiAlXZPIFm2nBCt0DHLu_Q</td>\n      <td>Green World Cleaners</td>\n      <td>6870 S Rainbow Blvd, Ste 117</td>\n      <td>Las Vegas</td>\n      <td>NV</td>\n      <td>89118</td>\n      <td>36.063977</td>\n      <td>-115.241463</td>\n      <td>3.5</td>\n      <td>81</td>\n      <td>1</td>\n      <td>{'BusinessParking': '{'garage': False, 'street...</td>\n      <td>Local Services</td>\n      <td>{'Monday': '7:0-19:0', 'Tuesday': '7:0-19:0', ...</td>\n    </tr>\n    <tr>\n      <th>6</th>\n      <td>oiAlXZPIFm2nBCt0DHLu_Q</td>\n      <td>Green World Cleaners</td>\n      <td>6870 S Rainbow Blvd, Ste 117</td>\n      <td>Las Vegas</td>\n      <td>NV</td>\n      <td>89118</td>\n      <td>36.063977</td>\n      <td>-115.241463</td>\n      <td>3.5</td>\n      <td>81</td>\n      <td>1</td>\n      <td>{'BusinessParking': '{'garage': False, 'street...</td>\n      <td>Laundry Services</td>\n      <td>{'Monday': '7:0-19:0', 'Tuesday': '7:0-19:0', ...</td>\n    </tr>\n    <tr>\n      <th>51</th>\n      <td>5XMKDYmMGSKkCkrYoELxzg</td>\n      <td>Annette Thomas Hair Colorist Specialist</td>\n      <td>101 S Rainbow Blvd, Ste 23, Darby's Hairitage</td>\n      <td>Las Vegas</td>\n      <td>NV</td>\n      <td>89107</td>\n      <td>36.172534</td>\n      <td>-115.244762</td>\n      <td>5.0</td>\n      <td>7</td>\n      <td>1</td>\n      <td>{'GoodForKids': 'True', 'BusinessParking': '{'...</td>\n      <td>Hair Stylists</td>\n      <td>None</td>\n    </tr>\n    <tr>\n      <th>51</th>\n      <td>5XMKDYmMGSKkCkrYoELxzg</td>\n      <td>Annette Thomas Hair Colorist Specialist</td>\n      <td>101 S Rainbow Blvd, Ste 23, Darby's Hairitage</td>\n      <td>Las Vegas</td>\n      <td>NV</td>\n      <td>89107</td>\n      <td>36.172534</td>\n      <td>-115.244762</td>\n      <td>5.0</td>\n      <td>7</td>\n      <td>1</td>\n      <td>{'GoodForKids': 'True', 'BusinessParking': '{'...</td>\n      <td>Hair Salons</td>\n      <td>None</td>\n    </tr>\n    <tr>\n      <th>...</th>\n      <td>...</td>\n      <td>...</td>\n      <td>...</td>\n      <td>...</td>\n      <td>...</td>\n      <td>...</td>\n      <td>...</td>\n      <td>...</td>\n      <td>...</td>\n      <td>...</td>\n      <td>...</td>\n      <td>...</td>\n      <td>...</td>\n      <td>...</td>\n    </tr>\n    <tr>\n      <th>209386</th>\n      <td>JjcJVqhZXhP4tvOhg3fnag</td>\n      <td>Water Heater Pros</td>\n      <td></td>\n      <td>Las Vegas</td>\n      <td>NV</td>\n      <td>89120</td>\n      <td>36.076977</td>\n      <td>-115.244794</td>\n      <td>5.0</td>\n      <td>217</td>\n      <td>1</td>\n      <td>{'BusinessAcceptsCreditCards': 'True', 'ByAppo...</td>\n      <td>Appliances &amp; Repair</td>\n      <td>{'Monday': '0:0-0:0', 'Tuesday': '8:0-17:0', '...</td>\n    </tr>\n    <tr>\n      <th>209386</th>\n      <td>JjcJVqhZXhP4tvOhg3fnag</td>\n      <td>Water Heater Pros</td>\n      <td></td>\n      <td>Las Vegas</td>\n      <td>NV</td>\n      <td>89120</td>\n      <td>36.076977</td>\n      <td>-115.244794</td>\n      <td>5.0</td>\n      <td>217</td>\n      <td>1</td>\n      <td>{'BusinessAcceptsCreditCards': 'True', 'ByAppo...</td>\n      <td>Heating &amp; Air Conditioning/HVAC</td>\n      <td>{'Monday': '0:0-0:0', 'Tuesday': '8:0-17:0', '...</td>\n    </tr>\n    <tr>\n      <th>209386</th>\n      <td>JjcJVqhZXhP4tvOhg3fnag</td>\n      <td>Water Heater Pros</td>\n      <td></td>\n      <td>Las Vegas</td>\n      <td>NV</td>\n      <td>89120</td>\n      <td>36.076977</td>\n      <td>-115.244794</td>\n      <td>5.0</td>\n      <td>217</td>\n      <td>1</td>\n      <td>{'BusinessAcceptsCreditCards': 'True', 'ByAppo...</td>\n      <td>Water Heater Installation/Repair</td>\n      <td>{'Monday': '0:0-0:0', 'Tuesday': '8:0-17:0', '...</td>\n    </tr>\n    <tr>\n      <th>209386</th>\n      <td>JjcJVqhZXhP4tvOhg3fnag</td>\n      <td>Water Heater Pros</td>\n      <td></td>\n      <td>Las Vegas</td>\n      <td>NV</td>\n      <td>89120</td>\n      <td>36.076977</td>\n      <td>-115.244794</td>\n      <td>5.0</td>\n      <td>217</td>\n      <td>1</td>\n      <td>{'BusinessAcceptsCreditCards': 'True', 'ByAppo...</td>\n      <td>Plumbing</td>\n      <td>{'Monday': '0:0-0:0', 'Tuesday': '8:0-17:0', '...</td>\n    </tr>\n    <tr>\n      <th>209386</th>\n      <td>JjcJVqhZXhP4tvOhg3fnag</td>\n      <td>Water Heater Pros</td>\n      <td></td>\n      <td>Las Vegas</td>\n      <td>NV</td>\n      <td>89120</td>\n      <td>36.076977</td>\n      <td>-115.244794</td>\n      <td>5.0</td>\n      <td>217</td>\n      <td>1</td>\n      <td>{'BusinessAcceptsCreditCards': 'True', 'ByAppo...</td>\n      <td>Home Services</td>\n      <td>{'Monday': '0:0-0:0', 'Tuesday': '8:0-17:0', '...</td>\n    </tr>\n  </tbody>\n</table>\n<p>110353 rows × 14 columns</p>\n</div>"
     },
     "metadata": {},
     "execution_count": 36
    }
   ],
   "source": [
    "all_business"
   ]
  },
  {
   "cell_type": "code",
   "execution_count": 24,
   "metadata": {},
   "outputs": [
    {
     "output_type": "execute_result",
     "data": {
      "text/plain": "Restaurants          4378\nShopping             4331\nHome Services        3862\nHealth & Medical     3172\nFood                 2736\n                     ... \nBike Repair             1\nMedical Foot Care       1\nCar Inspectors          1\nGame Meat               1\nPatent Law              1\nName: categories, Length: 1192, dtype: int64"
     },
     "metadata": {},
     "execution_count": 24
    }
   ],
   "source": [
    "df_explode.categories.value_counts()"
   ]
  },
  {
   "cell_type": "code",
   "execution_count": 12,
   "metadata": {},
   "outputs": [],
   "source": [
    "df_explode.to_csv('business.csv', index=False)\n"
   ]
  },
  {
   "cell_type": "code",
   "execution_count": 25,
   "metadata": {},
   "outputs": [],
   "source": [
    "restaurant = df_explode[df_explode['categories'].str.contains(\n",
    "              'Restaurants',\n",
    "              case=False, na=False)]"
   ]
  },
  {
   "cell_type": "code",
   "execution_count": 26,
   "metadata": {},
   "outputs": [
    {
     "output_type": "execute_result",
     "data": {
      "text/plain": "                   business_id                       name  \\\n86      OWkS1FXNJbozn-qPg3LWxg          Mama Napoli Pizza   \n101     MTx-Zdl_KcU_z9G832XAjg                  Taco Bell   \n157     Yr_w9lakJrKMyEG_hI6zbA    Fat Moe's Pizza & Wings   \n238     AN0bWhisCf6LN9eHZ7DQ3w      Los Olivos Ristorante   \n246     AtD6B83S4Mbmq0t7iDnUVA               Veggie House   \n...                        ...                        ...   \n209145  ak-f8IV0ZdDeI4oYnjA1Pw       Habaneros Taco Grill   \n209170  PIXl4WvAqjl2w9Lj81zXvQ        Zest - Bistro & Bar   \n209260  d4Mw96Hb6ZoHEL2AxqGrbg          Ice House America   \n209287  9r6ijZgxDLJFysxIohtTcQ  Northern China Restaurant   \n209317  tv-WIUQifcp5J9pUKoiE3Q              Dragon Grille   \n\n                                       address       city state postal_code  \\\n86                                              Las Vegas    NV       89109   \n101                          8033 N Durango Dr  Las Vegas    NV       89131   \n157                6125 W Tropicana Ave, Ste F  Las Vegas    NV       89103   \n238                       3759 E Desert Inn Rd  Las Vegas    NV       89121   \n246           5115 Spring Mountain Rd, Ste 203  Las Vegas    NV       89146   \n...                                        ...        ...   ...         ...   \n209145                   4225 S Fort Apache Rd  Las Vegas    NV       89147   \n209170  10670 Southern Highlands Pkwy, Ste 102  Las Vegas    NV       89141   \n209260                  1735 E Warm Springs Rd  Las Vegas    NV       89119   \n209287                      4850 W Flamingo Rd  Las Vegas    NV       89103   \n209317                                          Las Vegas    NV       89119   \n\n         latitude   longitude  stars  review_count  is_open  \\\n86      36.128561 -115.171130    4.5            11        1   \n101     36.307495 -115.279059    2.5            37        1   \n157     36.099361 -115.226636    4.0           141        1   \n238     36.129178 -115.092483    5.0           222        1   \n246     36.125569 -115.210911    4.5          1142        1   \n...           ...         ...    ...           ...      ...   \n209145  36.112881 -115.297498    4.0           286        1   \n209170  35.995151 -115.206840    4.5           744        1   \n209260  36.057189 -115.128511    5.0             4        1   \n209287  36.116440 -115.206268    2.5             3        1   \n209317  36.076518 -115.153343    4.0            69        1   \n\n                                               attributes   categories  \\\n86      {'RestaurantsDelivery': 'False', 'BusinessAcce...  Restaurants   \n101     {'OutdoorSeating': 'False', 'Alcohol': 'u'none...  Restaurants   \n157     {'RestaurantsAttire': 'u'casual'', 'Restaurant...  Restaurants   \n238     {'WiFi': 'u'free'', 'RestaurantsPriceRange2': ...  Restaurants   \n246     {'RestaurantsPriceRange2': '2', 'BikeParking':...  Restaurants   \n...                                                   ...          ...   \n209145  {'WheelchairAccessible': 'True', 'RestaurantsG...  Restaurants   \n209170  {'RestaurantsPriceRange2': '2', 'RestaurantsGo...  Restaurants   \n209260  {'RestaurantsGoodForGroups': 'True', 'Restaura...  Restaurants   \n209287  {'BusinessParking': '{'garage': False, 'street...  Restaurants   \n209317  {'GoodForKids': 'True', 'Alcohol': 'u'none'', ...  Restaurants   \n\n                                                    hours  \n86                                 {'Friday': '18:0-0:0'}  \n101                                                  None  \n157     {'Monday': '11:0-22:0', 'Tuesday': '11:0-22:0'...  \n238     {'Monday': '0:0-0:0', 'Tuesday': '16:0-21:0', ...  \n246     {'Monday': '11:30-21:30', 'Tuesday': '11:30-21...  \n...                                                   ...  \n209145  {'Monday': '7:0-2:0', 'Tuesday': '7:0-2:0', 'W...  \n209170  {'Monday': '16:0-22:0', 'Tuesday': '16:0-22:0'...  \n209260                                               None  \n209287                                               None  \n209317  {'Monday': '11:0-14:0', 'Tuesday': '11:0-14:0'...  \n\n[4380 rows x 14 columns]",
      "text/html": "<div>\n<style scoped>\n    .dataframe tbody tr th:only-of-type {\n        vertical-align: middle;\n    }\n\n    .dataframe tbody tr th {\n        vertical-align: top;\n    }\n\n    .dataframe thead th {\n        text-align: right;\n    }\n</style>\n<table border=\"1\" class=\"dataframe\">\n  <thead>\n    <tr style=\"text-align: right;\">\n      <th></th>\n      <th>business_id</th>\n      <th>name</th>\n      <th>address</th>\n      <th>city</th>\n      <th>state</th>\n      <th>postal_code</th>\n      <th>latitude</th>\n      <th>longitude</th>\n      <th>stars</th>\n      <th>review_count</th>\n      <th>is_open</th>\n      <th>attributes</th>\n      <th>categories</th>\n      <th>hours</th>\n    </tr>\n  </thead>\n  <tbody>\n    <tr>\n      <th>86</th>\n      <td>OWkS1FXNJbozn-qPg3LWxg</td>\n      <td>Mama Napoli Pizza</td>\n      <td></td>\n      <td>Las Vegas</td>\n      <td>NV</td>\n      <td>89109</td>\n      <td>36.128561</td>\n      <td>-115.171130</td>\n      <td>4.5</td>\n      <td>11</td>\n      <td>1</td>\n      <td>{'RestaurantsDelivery': 'False', 'BusinessAcce...</td>\n      <td>Restaurants</td>\n      <td>{'Friday': '18:0-0:0'}</td>\n    </tr>\n    <tr>\n      <th>101</th>\n      <td>MTx-Zdl_KcU_z9G832XAjg</td>\n      <td>Taco Bell</td>\n      <td>8033 N Durango Dr</td>\n      <td>Las Vegas</td>\n      <td>NV</td>\n      <td>89131</td>\n      <td>36.307495</td>\n      <td>-115.279059</td>\n      <td>2.5</td>\n      <td>37</td>\n      <td>1</td>\n      <td>{'OutdoorSeating': 'False', 'Alcohol': 'u'none...</td>\n      <td>Restaurants</td>\n      <td>None</td>\n    </tr>\n    <tr>\n      <th>157</th>\n      <td>Yr_w9lakJrKMyEG_hI6zbA</td>\n      <td>Fat Moe's Pizza &amp; Wings</td>\n      <td>6125 W Tropicana Ave, Ste F</td>\n      <td>Las Vegas</td>\n      <td>NV</td>\n      <td>89103</td>\n      <td>36.099361</td>\n      <td>-115.226636</td>\n      <td>4.0</td>\n      <td>141</td>\n      <td>1</td>\n      <td>{'RestaurantsAttire': 'u'casual'', 'Restaurant...</td>\n      <td>Restaurants</td>\n      <td>{'Monday': '11:0-22:0', 'Tuesday': '11:0-22:0'...</td>\n    </tr>\n    <tr>\n      <th>238</th>\n      <td>AN0bWhisCf6LN9eHZ7DQ3w</td>\n      <td>Los Olivos Ristorante</td>\n      <td>3759 E Desert Inn Rd</td>\n      <td>Las Vegas</td>\n      <td>NV</td>\n      <td>89121</td>\n      <td>36.129178</td>\n      <td>-115.092483</td>\n      <td>5.0</td>\n      <td>222</td>\n      <td>1</td>\n      <td>{'WiFi': 'u'free'', 'RestaurantsPriceRange2': ...</td>\n      <td>Restaurants</td>\n      <td>{'Monday': '0:0-0:0', 'Tuesday': '16:0-21:0', ...</td>\n    </tr>\n    <tr>\n      <th>246</th>\n      <td>AtD6B83S4Mbmq0t7iDnUVA</td>\n      <td>Veggie House</td>\n      <td>5115 Spring Mountain Rd, Ste 203</td>\n      <td>Las Vegas</td>\n      <td>NV</td>\n      <td>89146</td>\n      <td>36.125569</td>\n      <td>-115.210911</td>\n      <td>4.5</td>\n      <td>1142</td>\n      <td>1</td>\n      <td>{'RestaurantsPriceRange2': '2', 'BikeParking':...</td>\n      <td>Restaurants</td>\n      <td>{'Monday': '11:30-21:30', 'Tuesday': '11:30-21...</td>\n    </tr>\n    <tr>\n      <th>...</th>\n      <td>...</td>\n      <td>...</td>\n      <td>...</td>\n      <td>...</td>\n      <td>...</td>\n      <td>...</td>\n      <td>...</td>\n      <td>...</td>\n      <td>...</td>\n      <td>...</td>\n      <td>...</td>\n      <td>...</td>\n      <td>...</td>\n      <td>...</td>\n    </tr>\n    <tr>\n      <th>209145</th>\n      <td>ak-f8IV0ZdDeI4oYnjA1Pw</td>\n      <td>Habaneros Taco Grill</td>\n      <td>4225 S Fort Apache Rd</td>\n      <td>Las Vegas</td>\n      <td>NV</td>\n      <td>89147</td>\n      <td>36.112881</td>\n      <td>-115.297498</td>\n      <td>4.0</td>\n      <td>286</td>\n      <td>1</td>\n      <td>{'WheelchairAccessible': 'True', 'RestaurantsG...</td>\n      <td>Restaurants</td>\n      <td>{'Monday': '7:0-2:0', 'Tuesday': '7:0-2:0', 'W...</td>\n    </tr>\n    <tr>\n      <th>209170</th>\n      <td>PIXl4WvAqjl2w9Lj81zXvQ</td>\n      <td>Zest - Bistro &amp; Bar</td>\n      <td>10670 Southern Highlands Pkwy, Ste 102</td>\n      <td>Las Vegas</td>\n      <td>NV</td>\n      <td>89141</td>\n      <td>35.995151</td>\n      <td>-115.206840</td>\n      <td>4.5</td>\n      <td>744</td>\n      <td>1</td>\n      <td>{'RestaurantsPriceRange2': '2', 'RestaurantsGo...</td>\n      <td>Restaurants</td>\n      <td>{'Monday': '16:0-22:0', 'Tuesday': '16:0-22:0'...</td>\n    </tr>\n    <tr>\n      <th>209260</th>\n      <td>d4Mw96Hb6ZoHEL2AxqGrbg</td>\n      <td>Ice House America</td>\n      <td>1735 E Warm Springs Rd</td>\n      <td>Las Vegas</td>\n      <td>NV</td>\n      <td>89119</td>\n      <td>36.057189</td>\n      <td>-115.128511</td>\n      <td>5.0</td>\n      <td>4</td>\n      <td>1</td>\n      <td>{'RestaurantsGoodForGroups': 'True', 'Restaura...</td>\n      <td>Restaurants</td>\n      <td>None</td>\n    </tr>\n    <tr>\n      <th>209287</th>\n      <td>9r6ijZgxDLJFysxIohtTcQ</td>\n      <td>Northern China Restaurant</td>\n      <td>4850 W Flamingo Rd</td>\n      <td>Las Vegas</td>\n      <td>NV</td>\n      <td>89103</td>\n      <td>36.116440</td>\n      <td>-115.206268</td>\n      <td>2.5</td>\n      <td>3</td>\n      <td>1</td>\n      <td>{'BusinessParking': '{'garage': False, 'street...</td>\n      <td>Restaurants</td>\n      <td>None</td>\n    </tr>\n    <tr>\n      <th>209317</th>\n      <td>tv-WIUQifcp5J9pUKoiE3Q</td>\n      <td>Dragon Grille</td>\n      <td></td>\n      <td>Las Vegas</td>\n      <td>NV</td>\n      <td>89119</td>\n      <td>36.076518</td>\n      <td>-115.153343</td>\n      <td>4.0</td>\n      <td>69</td>\n      <td>1</td>\n      <td>{'GoodForKids': 'True', 'Alcohol': 'u'none'', ...</td>\n      <td>Restaurants</td>\n      <td>{'Monday': '11:0-14:0', 'Tuesday': '11:0-14:0'...</td>\n    </tr>\n  </tbody>\n</table>\n<p>4380 rows × 14 columns</p>\n</div>"
     },
     "metadata": {},
     "execution_count": 26
    }
   ],
   "source": [
    "restaurant"
   ]
  },
  {
   "cell_type": "code",
   "execution_count": 27,
   "metadata": {},
   "outputs": [],
   "source": [
    "restaurant.to_csv('restaurant.csv', index=False)"
   ]
  },
  {
   "cell_type": "code",
   "execution_count": 25,
   "metadata": {},
   "outputs": [],
   "source": [
    "ten_restaurant = restaurant[:10]"
   ]
  },
  {
   "cell_type": "code",
   "execution_count": 26,
   "metadata": {},
   "outputs": [],
   "source": [
    "ten_restaurant.to_csv('tenRestaurant.csv', index=False)"
   ]
  },
  {
   "cell_type": "code",
   "execution_count": 27,
   "metadata": {},
   "outputs": [],
   "source": [
    "hundred_restaurants = restaurant[:100]"
   ]
  },
  {
   "cell_type": "code",
   "execution_count": 28,
   "metadata": {},
   "outputs": [],
   "source": [
    "hundred_restaurants.to_csv('hundredRestaurant.csv', index=False)"
   ]
  },
  {
   "cell_type": "code",
   "execution_count": 17,
   "metadata": {},
   "outputs": [],
   "source": [
    "thousandResto = restaurant[:1000]"
   ]
  },
  {
   "cell_type": "code",
   "execution_count": 19,
   "metadata": {},
   "outputs": [],
   "source": [
    "thousandResto.to_csv('thousandRestaurant.csv', index=False)"
   ]
  },
  {
   "cell_type": "code",
   "execution_count": 3,
   "metadata": {},
   "outputs": [],
   "source": [
    "conn = (f'mongodb://localhost:27017/')\n",
    "client = pymongo.MongoClient(conn)\n",
    "database_name = 'yelpBusiness'\n",
    "collection_name = 'openVegas'"
   ]
  },
  {
   "cell_type": "code",
   "execution_count": 12,
   "metadata": {},
   "outputs": [],
   "source": [
    "db = client.yelpBusiness\n",
    "collection = db.openVegas.find()\n"
   ]
  },
  {
   "cell_type": "code",
   "execution_count": 13,
   "metadata": {
    "tags": []
   },
   "outputs": [
    {
     "output_type": "stream",
     "name": "stdout",
     "text": "{'_id': ObjectId('5f3600c5bb11262a1c955e80'), 'color': 'yellow'}\n{'_id': ObjectId('5f360165bb11262a1c955f00'), 'color': 'yellow', 'name': 'Pratis'}\n"
    }
   ],
   "source": [
    "for x in collection:\n",
    "    print(x)"
   ]
  },
  {
   "cell_type": "code",
   "execution_count": 11,
   "metadata": {},
   "outputs": [
    {
     "output_type": "execute_result",
     "data": {
      "text/plain": "<pymongo.results.UpdateResult at 0x7fd3ddffa9c8>"
     },
     "metadata": {},
     "execution_count": 11
    }
   ],
   "source": [
    "doc = ({\n",
    "    'color': 'yellow',\n",
    "    'name': 'Pratis'\n",
    "    })\n",
    "db.openVegas.replace_one(doc, doc, True)"
   ]
  },
  {
   "cell_type": "code",
   "execution_count": 31,
   "metadata": {},
   "outputs": [],
   "source": [
    "vegasDict = restaurant.to_dict('records')"
   ]
  },
  {
   "cell_type": "code",
   "execution_count": 32,
   "metadata": {},
   "outputs": [
    {
     "output_type": "execute_result",
     "data": {
      "text/plain": "<pymongo.results.InsertManyResult at 0x7fd35c09bac8>"
     },
     "metadata": {},
     "execution_count": 32
    }
   ],
   "source": [
    "db.openVegas.insert_many(vegasDict)"
   ]
  },
  {
   "cell_type": "code",
   "execution_count": 33,
   "metadata": {},
   "outputs": [],
   "source": [
    "conn = (f'mongodb://localhost:27017/')\n",
    "client = pymongo.MongoClient(conn)\n",
    "database_name = 'yelpBusiness_DB'\n",
    "collection_name = 'openLasVegas'"
   ]
  },
  {
   "cell_type": "code",
   "execution_count": 34,
   "metadata": {},
   "outputs": [],
   "source": [
    "db = client.yelpBusiness\n",
    "collection = db.openVegas.find()"
   ]
  },
  {
   "cell_type": "code",
   "execution_count": 38,
   "metadata": {},
   "outputs": [],
   "source": [
    "vegasDict = all_business.to_dict('records')"
   ]
  },
  {
   "cell_type": "code",
   "execution_count": 39,
   "metadata": {},
   "outputs": [
    {
     "output_type": "execute_result",
     "data": {
      "text/plain": "<pymongo.results.InsertManyResult at 0x7fd36e2b8f88>"
     },
     "metadata": {},
     "execution_count": 39
    }
   ],
   "source": [
    "db.openVegas.insert_many(vegasDict)"
   ]
  },
  {
   "cell_type": "code",
   "execution_count": null,
   "metadata": {},
   "outputs": [],
   "source": []
  }
 ]
}